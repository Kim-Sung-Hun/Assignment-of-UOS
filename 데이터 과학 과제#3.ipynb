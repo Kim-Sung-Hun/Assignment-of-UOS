{
 "cells": [
  {
   "cell_type": "code",
   "execution_count": 1,
   "id": "102c52e2",
   "metadata": {},
   "outputs": [],
   "source": [
    "from sklearn.preprocessing import MinMaxScaler, StandardScaler, LabelEncoder\n",
    "from sklearn.model_selection import train_test_split\n",
    "from sklearn.linear_model import LinearRegression, LogisticRegression\n",
    "from sklearn.ensemble import RandomForestRegressor, RandomForestClassifier\n",
    "from sklearn.svm import SVR, SVC\n",
    "from xgboost import XGBRegressor, XGBClassifier\n",
    "from sklearn.metrics import mean_squared_error, mean_absolute_error, roc_auc_score, f1_score, recall_score\n",
    "import pandas as pd\n",
    "import numpy as np"
   ]
  },
  {
   "cell_type": "code",
   "execution_count": 2,
   "id": "93cbd5a6",
   "metadata": {},
   "outputs": [],
   "source": [
    "# 데이터 불러오기\n",
    "df = pd.read_csv('주최측데이터.csv')"
   ]
  },
  {
   "cell_type": "code",
   "execution_count": 3,
   "id": "88f4c481",
   "metadata": {},
   "outputs": [
    {
     "data": {
      "text/html": [
       "<div>\n",
       "<style scoped>\n",
       "    .dataframe tbody tr th:only-of-type {\n",
       "        vertical-align: middle;\n",
       "    }\n",
       "\n",
       "    .dataframe tbody tr th {\n",
       "        vertical-align: top;\n",
       "    }\n",
       "\n",
       "    .dataframe thead th {\n",
       "        text-align: right;\n",
       "    }\n",
       "</style>\n",
       "<table border=\"1\" class=\"dataframe\">\n",
       "  <thead>\n",
       "    <tr style=\"text-align: right;\">\n",
       "      <th></th>\n",
       "      <th>age</th>\n",
       "      <th>gender</th>\n",
       "      <th>genre</th>\n",
       "      <th>place</th>\n",
       "      <th>running_time</th>\n",
       "      <th>price</th>\n",
       "    </tr>\n",
       "  </thead>\n",
       "  <tbody>\n",
       "    <tr>\n",
       "      <th>0</th>\n",
       "      <td>50.0</td>\n",
       "      <td>F</td>\n",
       "      <td>교향곡</td>\n",
       "      <td>콘서트홀</td>\n",
       "      <td>120</td>\n",
       "      <td>10000</td>\n",
       "    </tr>\n",
       "    <tr>\n",
       "      <th>4</th>\n",
       "      <td>50.0</td>\n",
       "      <td>M</td>\n",
       "      <td>독주</td>\n",
       "      <td>콘서트홀</td>\n",
       "      <td>90</td>\n",
       "      <td>180000</td>\n",
       "    </tr>\n",
       "    <tr>\n",
       "      <th>5</th>\n",
       "      <td>30.0</td>\n",
       "      <td>F</td>\n",
       "      <td>교향곡</td>\n",
       "      <td>콘서트홀</td>\n",
       "      <td>100</td>\n",
       "      <td>144000</td>\n",
       "    </tr>\n",
       "    <tr>\n",
       "      <th>8</th>\n",
       "      <td>30.0</td>\n",
       "      <td>F</td>\n",
       "      <td>실내악</td>\n",
       "      <td>IBK챔버홀</td>\n",
       "      <td>80</td>\n",
       "      <td>56000</td>\n",
       "    </tr>\n",
       "    <tr>\n",
       "      <th>11</th>\n",
       "      <td>50.0</td>\n",
       "      <td>F</td>\n",
       "      <td>오페라</td>\n",
       "      <td>콘서트홀</td>\n",
       "      <td>120</td>\n",
       "      <td>24000</td>\n",
       "    </tr>\n",
       "    <tr>\n",
       "      <th>...</th>\n",
       "      <td>...</td>\n",
       "      <td>...</td>\n",
       "      <td>...</td>\n",
       "      <td>...</td>\n",
       "      <td>...</td>\n",
       "      <td>...</td>\n",
       "    </tr>\n",
       "    <tr>\n",
       "      <th>1920853</th>\n",
       "      <td>60.0</td>\n",
       "      <td>F</td>\n",
       "      <td>교향곡</td>\n",
       "      <td>콘서트홀</td>\n",
       "      <td>110</td>\n",
       "      <td>90000</td>\n",
       "    </tr>\n",
       "    <tr>\n",
       "      <th>1920855</th>\n",
       "      <td>50.0</td>\n",
       "      <td>M</td>\n",
       "      <td>교향곡</td>\n",
       "      <td>콘서트홀</td>\n",
       "      <td>120</td>\n",
       "      <td>10000</td>\n",
       "    </tr>\n",
       "    <tr>\n",
       "      <th>1920860</th>\n",
       "      <td>60.0</td>\n",
       "      <td>M</td>\n",
       "      <td>클래식</td>\n",
       "      <td>IBK챔버홀</td>\n",
       "      <td>100</td>\n",
       "      <td>15000</td>\n",
       "    </tr>\n",
       "    <tr>\n",
       "      <th>1920864</th>\n",
       "      <td>20.0</td>\n",
       "      <td>F</td>\n",
       "      <td>교향곡</td>\n",
       "      <td>콘서트홀</td>\n",
       "      <td>120</td>\n",
       "      <td>21000</td>\n",
       "    </tr>\n",
       "    <tr>\n",
       "      <th>1920865</th>\n",
       "      <td>50.0</td>\n",
       "      <td>F</td>\n",
       "      <td>독주</td>\n",
       "      <td>리사이틀홀</td>\n",
       "      <td>100</td>\n",
       "      <td>24000</td>\n",
       "    </tr>\n",
       "  </tbody>\n",
       "</table>\n",
       "<p>609530 rows × 6 columns</p>\n",
       "</div>"
      ],
      "text/plain": [
       "          age gender genre   place  running_time   price\n",
       "0        50.0      F   교향곡    콘서트홀           120   10000\n",
       "4        50.0      M    독주    콘서트홀            90  180000\n",
       "5        30.0      F   교향곡    콘서트홀           100  144000\n",
       "8        30.0      F   실내악  IBK챔버홀            80   56000\n",
       "11       50.0      F   오페라    콘서트홀           120   24000\n",
       "...       ...    ...   ...     ...           ...     ...\n",
       "1920853  60.0      F   교향곡    콘서트홀           110   90000\n",
       "1920855  50.0      M   교향곡    콘서트홀           120   10000\n",
       "1920860  60.0      M   클래식  IBK챔버홀           100   15000\n",
       "1920864  20.0      F   교향곡    콘서트홀           120   21000\n",
       "1920865  50.0      F    독주   리사이틀홀           100   24000\n",
       "\n",
       "[609530 rows x 6 columns]"
      ]
     },
     "execution_count": 3,
     "metadata": {},
     "output_type": "execute_result"
    }
   ],
   "source": [
    "df = df.dropna(subset = ['age','gender','genre','place','running_time','price'])\n",
    "df = df[['age','gender','genre','place','running_time','price']]\n",
    "df"
   ]
  },
  {
   "cell_type": "code",
   "execution_count": 6,
   "id": "6dc957b1",
   "metadata": {},
   "outputs": [
    {
     "data": {
      "text/plain": [
       "교향곡      0.418964\n",
       "클래식      0.207970\n",
       "독주       0.165467\n",
       "실내악      0.115601\n",
       "합창       0.035088\n",
       "성악       0.027004\n",
       "콘서트      0.010771\n",
       "오페라      0.008828\n",
       "복합장르     0.007929\n",
       "재즈       0.001291\n",
       "기타       0.000553\n",
       "크로스오버    0.000486\n",
       "가족극      0.000031\n",
       "전시       0.000016\n",
       "무용       0.000002\n",
       "Name: genre, dtype: float64"
      ]
     },
     "execution_count": 6,
     "metadata": {},
     "output_type": "execute_result"
    }
   ],
   "source": [
    "df['genre'].value_counts()/len(df)"
   ]
  },
  {
   "cell_type": "code",
   "execution_count": 7,
   "id": "8a7d4ceb",
   "metadata": {},
   "outputs": [],
   "source": [
    "lb = LabelEncoder()\n",
    "a = lb.fit_transform(df['gender'])\n",
    "df['gender'] = a\n",
    "\n",
    "df = pd.concat([df,pd.get_dummies(df['place'])], axis=1)\n",
    "df = df.drop('place',axis=1)\n",
    "\n",
    "df['new_genre'] = df['genre'].apply(lambda x: 1 if x == '교향곡' else 0)\n",
    "df = df.drop('genre',axis=1)"
   ]
  },
  {
   "cell_type": "code",
   "execution_count": 8,
   "id": "47b44ced",
   "metadata": {},
   "outputs": [],
   "source": [
    "x1 = df.drop('price',axis=1)\n",
    "x2 = df.drop('new_genre',axis=1)\n",
    "y1 = df['price']\n",
    "y2 = df['new_genre']"
   ]
  },
  {
   "cell_type": "code",
   "execution_count": 9,
   "id": "727c8b40",
   "metadata": {},
   "outputs": [],
   "source": [
    "x1_train, x1_test, y1_train, y1_test = train_test_split(x1, y1)\n",
    "x2_train, x2_test, y2_train, y2_test = train_test_split(x2, y2, stratify = y1)"
   ]
  },
  {
   "cell_type": "code",
   "execution_count": 10,
   "id": "e4aac0b2",
   "metadata": {},
   "outputs": [],
   "source": [
    "ms = MinMaxScaler()\n",
    "ms.fit(x1_train)\n",
    "x1_train_ms = ms.transform(x1_train)\n",
    "x1_test_ms = ms.transform(x1_test)"
   ]
  },
  {
   "cell_type": "code",
   "execution_count": 11,
   "id": "a21fb35b",
   "metadata": {},
   "outputs": [],
   "source": [
    "ms = MinMaxScaler()\n",
    "ms.fit(x2_train)\n",
    "x2_train_ms = ms.transform(x2_train)\n",
    "x2_test_ms = ms.transform(x2_test)"
   ]
  },
  {
   "cell_type": "code",
   "execution_count": 12,
   "id": "a24f198d",
   "metadata": {},
   "outputs": [],
   "source": [
    "lr_model = LinearRegression()\n",
    "lr_model.fit(x1_train_ms, y1_train)\n",
    "pred_lr = lr_model.predict(x1_test_ms)"
   ]
  },
  {
   "cell_type": "code",
   "execution_count": 13,
   "id": "5e8adc27",
   "metadata": {},
   "outputs": [],
   "source": [
    "glm_model = LogisticRegression()\n",
    "glm_model.fit(x2_train_ms, y2_train)\n",
    "pred_glm = glm_model.predict(x2_test_ms)"
   ]
  },
  {
   "cell_type": "code",
   "execution_count": 14,
   "id": "c74a610f",
   "metadata": {},
   "outputs": [],
   "source": [
    "xgbrg_model = XGBRegressor()\n",
    "xgbrg_model.fit(x1_train_ms, y1_train)\n",
    "pred_xgbrg = xgbrg_model.predict(x1_test_ms)"
   ]
  },
  {
   "cell_type": "code",
   "execution_count": 15,
   "id": "c5c72e20",
   "metadata": {},
   "outputs": [],
   "source": [
    "xgbcf_model = XGBClassifier()\n",
    "xgbcf_model.fit(x2_train_ms, y2_train)\n",
    "pred_xgbcf = xgbcf_model.predict(x2_test_ms)"
   ]
  },
  {
   "cell_type": "code",
   "execution_count": 16,
   "id": "03c4efbf",
   "metadata": {},
   "outputs": [
    {
     "data": {
      "text/plain": [
       "0.6423807005171603"
      ]
     },
     "execution_count": 16,
     "metadata": {},
     "output_type": "execute_result"
    }
   ],
   "source": [
    "f1_score(y2_test, pred_glm)"
   ]
  },
  {
   "cell_type": "code",
   "execution_count": 17,
   "id": "e247a2be",
   "metadata": {},
   "outputs": [
    {
     "data": {
      "text/plain": [
       "0.7914110429447854"
      ]
     },
     "execution_count": 17,
     "metadata": {},
     "output_type": "execute_result"
    }
   ],
   "source": [
    "f1_score(y2_test, pred_xgbcf)"
   ]
  },
  {
   "cell_type": "code",
   "execution_count": 18,
   "id": "8b5a3ea7",
   "metadata": {},
   "outputs": [
    {
     "data": {
      "text/plain": [
       "2981805238.0968914"
      ]
     },
     "execution_count": 18,
     "metadata": {},
     "output_type": "execute_result"
    }
   ],
   "source": [
    "mean_squared_error(y1_test, pred_lr)"
   ]
  },
  {
   "cell_type": "code",
   "execution_count": 19,
   "id": "e03ce7a6",
   "metadata": {},
   "outputs": [
    {
     "data": {
      "text/plain": [
       "2557886903.5370226"
      ]
     },
     "execution_count": 19,
     "metadata": {},
     "output_type": "execute_result"
    }
   ],
   "source": [
    "mean_squared_error(y1_test, pred_xgbrg)"
   ]
  },
  {
   "cell_type": "code",
   "execution_count": 20,
   "id": "1fb251f0",
   "metadata": {},
   "outputs": [
    {
     "data": {
      "text/html": [
       "<div>\n",
       "<style scoped>\n",
       "    .dataframe tbody tr th:only-of-type {\n",
       "        vertical-align: middle;\n",
       "    }\n",
       "\n",
       "    .dataframe tbody tr th {\n",
       "        vertical-align: top;\n",
       "    }\n",
       "\n",
       "    .dataframe thead th {\n",
       "        text-align: right;\n",
       "    }\n",
       "</style>\n",
       "<table border=\"1\" class=\"dataframe\">\n",
       "  <thead>\n",
       "    <tr style=\"text-align: right;\">\n",
       "      <th></th>\n",
       "      <th>age</th>\n",
       "      <th>gender</th>\n",
       "      <th>running_time</th>\n",
       "      <th>IBK챔버홀</th>\n",
       "      <th>리사이틀홀</th>\n",
       "      <th>콘서트홀</th>\n",
       "      <th>new_genre</th>\n",
       "    </tr>\n",
       "  </thead>\n",
       "  <tbody>\n",
       "    <tr>\n",
       "      <th>405838</th>\n",
       "      <td>40.0</td>\n",
       "      <td>0</td>\n",
       "      <td>70</td>\n",
       "      <td>0</td>\n",
       "      <td>1</td>\n",
       "      <td>0</td>\n",
       "      <td>0</td>\n",
       "    </tr>\n",
       "    <tr>\n",
       "      <th>1043228</th>\n",
       "      <td>60.0</td>\n",
       "      <td>0</td>\n",
       "      <td>120</td>\n",
       "      <td>0</td>\n",
       "      <td>0</td>\n",
       "      <td>1</td>\n",
       "      <td>1</td>\n",
       "    </tr>\n",
       "    <tr>\n",
       "      <th>1780827</th>\n",
       "      <td>40.0</td>\n",
       "      <td>0</td>\n",
       "      <td>120</td>\n",
       "      <td>0</td>\n",
       "      <td>0</td>\n",
       "      <td>1</td>\n",
       "      <td>1</td>\n",
       "    </tr>\n",
       "    <tr>\n",
       "      <th>897572</th>\n",
       "      <td>20.0</td>\n",
       "      <td>0</td>\n",
       "      <td>120</td>\n",
       "      <td>1</td>\n",
       "      <td>0</td>\n",
       "      <td>0</td>\n",
       "      <td>0</td>\n",
       "    </tr>\n",
       "    <tr>\n",
       "      <th>928419</th>\n",
       "      <td>30.0</td>\n",
       "      <td>0</td>\n",
       "      <td>120</td>\n",
       "      <td>0</td>\n",
       "      <td>0</td>\n",
       "      <td>1</td>\n",
       "      <td>1</td>\n",
       "    </tr>\n",
       "    <tr>\n",
       "      <th>...</th>\n",
       "      <td>...</td>\n",
       "      <td>...</td>\n",
       "      <td>...</td>\n",
       "      <td>...</td>\n",
       "      <td>...</td>\n",
       "      <td>...</td>\n",
       "      <td>...</td>\n",
       "    </tr>\n",
       "    <tr>\n",
       "      <th>511114</th>\n",
       "      <td>30.0</td>\n",
       "      <td>0</td>\n",
       "      <td>105</td>\n",
       "      <td>0</td>\n",
       "      <td>0</td>\n",
       "      <td>1</td>\n",
       "      <td>0</td>\n",
       "    </tr>\n",
       "    <tr>\n",
       "      <th>832411</th>\n",
       "      <td>60.0</td>\n",
       "      <td>0</td>\n",
       "      <td>120</td>\n",
       "      <td>0</td>\n",
       "      <td>0</td>\n",
       "      <td>1</td>\n",
       "      <td>0</td>\n",
       "    </tr>\n",
       "    <tr>\n",
       "      <th>1654907</th>\n",
       "      <td>40.0</td>\n",
       "      <td>0</td>\n",
       "      <td>90</td>\n",
       "      <td>0</td>\n",
       "      <td>0</td>\n",
       "      <td>1</td>\n",
       "      <td>1</td>\n",
       "    </tr>\n",
       "    <tr>\n",
       "      <th>248365</th>\n",
       "      <td>40.0</td>\n",
       "      <td>0</td>\n",
       "      <td>105</td>\n",
       "      <td>0</td>\n",
       "      <td>0</td>\n",
       "      <td>1</td>\n",
       "      <td>1</td>\n",
       "    </tr>\n",
       "    <tr>\n",
       "      <th>175285</th>\n",
       "      <td>30.0</td>\n",
       "      <td>1</td>\n",
       "      <td>120</td>\n",
       "      <td>0</td>\n",
       "      <td>0</td>\n",
       "      <td>1</td>\n",
       "      <td>0</td>\n",
       "    </tr>\n",
       "  </tbody>\n",
       "</table>\n",
       "<p>457147 rows × 7 columns</p>\n",
       "</div>"
      ],
      "text/plain": [
       "          age  gender  running_time  IBK챔버홀  리사이틀홀  콘서트홀  new_genre\n",
       "405838   40.0       0            70       0      1     0          0\n",
       "1043228  60.0       0           120       0      0     1          1\n",
       "1780827  40.0       0           120       0      0     1          1\n",
       "897572   20.0       0           120       1      0     0          0\n",
       "928419   30.0       0           120       0      0     1          1\n",
       "...       ...     ...           ...     ...    ...   ...        ...\n",
       "511114   30.0       0           105       0      0     1          0\n",
       "832411   60.0       0           120       0      0     1          0\n",
       "1654907  40.0       0            90       0      0     1          1\n",
       "248365   40.0       0           105       0      0     1          1\n",
       "175285   30.0       1           120       0      0     1          0\n",
       "\n",
       "[457147 rows x 7 columns]"
      ]
     },
     "execution_count": 20,
     "metadata": {},
     "output_type": "execute_result"
    }
   ],
   "source": [
    "x1_train"
   ]
  },
  {
   "cell_type": "code",
   "execution_count": 21,
   "id": "e003dc95",
   "metadata": {},
   "outputs": [
    {
     "data": {
      "text/html": [
       "<div>\n",
       "<style scoped>\n",
       "    .dataframe tbody tr th:only-of-type {\n",
       "        vertical-align: middle;\n",
       "    }\n",
       "\n",
       "    .dataframe tbody tr th {\n",
       "        vertical-align: top;\n",
       "    }\n",
       "\n",
       "    .dataframe thead th {\n",
       "        text-align: right;\n",
       "    }\n",
       "</style>\n",
       "<table border=\"1\" class=\"dataframe\">\n",
       "  <thead>\n",
       "    <tr style=\"text-align: right;\">\n",
       "      <th></th>\n",
       "      <th>age</th>\n",
       "      <th>gender</th>\n",
       "      <th>running_time</th>\n",
       "      <th>price</th>\n",
       "      <th>IBK챔버홀</th>\n",
       "      <th>리사이틀홀</th>\n",
       "      <th>콘서트홀</th>\n",
       "    </tr>\n",
       "  </thead>\n",
       "  <tbody>\n",
       "    <tr>\n",
       "      <th>37756</th>\n",
       "      <td>40.0</td>\n",
       "      <td>0</td>\n",
       "      <td>100</td>\n",
       "      <td>99000</td>\n",
       "      <td>0</td>\n",
       "      <td>0</td>\n",
       "      <td>1</td>\n",
       "    </tr>\n",
       "    <tr>\n",
       "      <th>1641511</th>\n",
       "      <td>50.0</td>\n",
       "      <td>1</td>\n",
       "      <td>120</td>\n",
       "      <td>90000</td>\n",
       "      <td>0</td>\n",
       "      <td>0</td>\n",
       "      <td>1</td>\n",
       "    </tr>\n",
       "    <tr>\n",
       "      <th>1781712</th>\n",
       "      <td>40.0</td>\n",
       "      <td>0</td>\n",
       "      <td>100</td>\n",
       "      <td>80000</td>\n",
       "      <td>0</td>\n",
       "      <td>0</td>\n",
       "      <td>1</td>\n",
       "    </tr>\n",
       "    <tr>\n",
       "      <th>564817</th>\n",
       "      <td>20.0</td>\n",
       "      <td>1</td>\n",
       "      <td>110</td>\n",
       "      <td>66000</td>\n",
       "      <td>0</td>\n",
       "      <td>0</td>\n",
       "      <td>1</td>\n",
       "    </tr>\n",
       "    <tr>\n",
       "      <th>1783824</th>\n",
       "      <td>30.0</td>\n",
       "      <td>1</td>\n",
       "      <td>120</td>\n",
       "      <td>70000</td>\n",
       "      <td>0</td>\n",
       "      <td>0</td>\n",
       "      <td>1</td>\n",
       "    </tr>\n",
       "    <tr>\n",
       "      <th>...</th>\n",
       "      <td>...</td>\n",
       "      <td>...</td>\n",
       "      <td>...</td>\n",
       "      <td>...</td>\n",
       "      <td>...</td>\n",
       "      <td>...</td>\n",
       "      <td>...</td>\n",
       "    </tr>\n",
       "    <tr>\n",
       "      <th>141064</th>\n",
       "      <td>30.0</td>\n",
       "      <td>1</td>\n",
       "      <td>85</td>\n",
       "      <td>152000</td>\n",
       "      <td>0</td>\n",
       "      <td>0</td>\n",
       "      <td>1</td>\n",
       "    </tr>\n",
       "    <tr>\n",
       "      <th>1375155</th>\n",
       "      <td>40.0</td>\n",
       "      <td>0</td>\n",
       "      <td>120</td>\n",
       "      <td>30000</td>\n",
       "      <td>0</td>\n",
       "      <td>0</td>\n",
       "      <td>1</td>\n",
       "    </tr>\n",
       "    <tr>\n",
       "      <th>1788646</th>\n",
       "      <td>60.0</td>\n",
       "      <td>1</td>\n",
       "      <td>100</td>\n",
       "      <td>20000</td>\n",
       "      <td>1</td>\n",
       "      <td>0</td>\n",
       "      <td>0</td>\n",
       "    </tr>\n",
       "    <tr>\n",
       "      <th>1140701</th>\n",
       "      <td>50.0</td>\n",
       "      <td>1</td>\n",
       "      <td>120</td>\n",
       "      <td>105000</td>\n",
       "      <td>0</td>\n",
       "      <td>0</td>\n",
       "      <td>1</td>\n",
       "    </tr>\n",
       "    <tr>\n",
       "      <th>1730504</th>\n",
       "      <td>20.0</td>\n",
       "      <td>0</td>\n",
       "      <td>120</td>\n",
       "      <td>20000</td>\n",
       "      <td>0</td>\n",
       "      <td>0</td>\n",
       "      <td>1</td>\n",
       "    </tr>\n",
       "  </tbody>\n",
       "</table>\n",
       "<p>457147 rows × 7 columns</p>\n",
       "</div>"
      ],
      "text/plain": [
       "          age  gender  running_time   price  IBK챔버홀  리사이틀홀  콘서트홀\n",
       "37756    40.0       0           100   99000       0      0     1\n",
       "1641511  50.0       1           120   90000       0      0     1\n",
       "1781712  40.0       0           100   80000       0      0     1\n",
       "564817   20.0       1           110   66000       0      0     1\n",
       "1783824  30.0       1           120   70000       0      0     1\n",
       "...       ...     ...           ...     ...     ...    ...   ...\n",
       "141064   30.0       1            85  152000       0      0     1\n",
       "1375155  40.0       0           120   30000       0      0     1\n",
       "1788646  60.0       1           100   20000       1      0     0\n",
       "1140701  50.0       1           120  105000       0      0     1\n",
       "1730504  20.0       0           120   20000       0      0     1\n",
       "\n",
       "[457147 rows x 7 columns]"
      ]
     },
     "execution_count": 21,
     "metadata": {},
     "output_type": "execute_result"
    }
   ],
   "source": [
    "x2_train"
   ]
  },
  {
   "cell_type": "code",
   "execution_count": 30,
   "id": "91df9fce",
   "metadata": {},
   "outputs": [
    {
     "data": {
      "text/plain": [
       "array([-2.12008630e+03, -5.44554184e+03,  2.40800417e+04,  1.93601004e+14,\n",
       "        1.93601004e+14,  1.93601004e+14, -1.23884802e+04])"
      ]
     },
     "execution_count": 30,
     "metadata": {},
     "output_type": "execute_result"
    }
   ],
   "source": [
    "lr_model.coef_"
   ]
  },
  {
   "cell_type": "code",
   "execution_count": 31,
   "id": "a0dcd403",
   "metadata": {},
   "outputs": [
    {
     "data": {
      "text/plain": [
       "array([[ 0.59246784,  0.37237905,  3.1931001 , -1.6786284 , -1.15803445,\n",
       "        -2.91423062,  1.50058373]])"
      ]
     },
     "execution_count": 31,
     "metadata": {},
     "output_type": "execute_result"
    }
   ],
   "source": [
    "glm_model.coef_"
   ]
  },
  {
   "cell_type": "code",
   "execution_count": 32,
   "id": "8a64a7a9",
   "metadata": {},
   "outputs": [
    {
     "data": {
      "text/plain": [
       "array([1.8172659e-02, 5.8546336e-03, 9.5153034e-02, 3.0036462e-02,\n",
       "       4.2266838e-04, 6.3064283e-01, 2.1971773e-01], dtype=float32)"
      ]
     },
     "execution_count": 32,
     "metadata": {},
     "output_type": "execute_result"
    }
   ],
   "source": [
    "xgbrg_model.feature_importances_"
   ]
  },
  {
   "cell_type": "code",
   "execution_count": 33,
   "id": "dca853f1",
   "metadata": {},
   "outputs": [
    {
     "data": {
      "text/plain": [
       "array([0.00564923, 0.00820833, 0.0354966 , 0.04299395, 0.01748492,\n",
       "       0.00991943, 0.88024753], dtype=float32)"
      ]
     },
     "execution_count": 33,
     "metadata": {},
     "output_type": "execute_result"
    }
   ],
   "source": [
    "xgbcf_model.feature_importances_"
   ]
  },
  {
   "cell_type": "code",
   "execution_count": null,
   "id": "ca662417",
   "metadata": {},
   "outputs": [],
   "source": []
  }
 ],
 "metadata": {
  "kernelspec": {
   "display_name": "Python 3 (ipykernel)",
   "language": "python",
   "name": "python3"
  },
  "language_info": {
   "codemirror_mode": {
    "name": "ipython",
    "version": 3
   },
   "file_extension": ".py",
   "mimetype": "text/x-python",
   "name": "python",
   "nbconvert_exporter": "python",
   "pygments_lexer": "ipython3",
   "version": "3.9.13"
  }
 },
 "nbformat": 4,
 "nbformat_minor": 5
}
