{
 "cells": [
  {
   "cell_type": "code",
   "execution_count": null,
   "id": "b6b7d6da",
   "metadata": {},
   "outputs": [],
   "source": [
    "# 가설1 : 40대가 다른 나이대에 비해 공연에 돈을 많이 쓴다, 10대와 20대가 돈을 작게 쓴다 - t검정\n",
    "# 가설2 : 10,20대와 나머지 나이대는 클래식 선호도에 있어 차이가 있다 - 카이제곱 검정\n",
    "# 가설3 : 여성이 남성보다 공연에 돈을 많이 쓴다 - t검정\n",
    "# 가설4 : 남성이 여성보다 교향곡에 대한 선호도가 높다 - 카이제곱 검정"
   ]
  },
  {
   "cell_type": "code",
   "execution_count": 1,
   "id": "6d70476b",
   "metadata": {},
   "outputs": [],
   "source": [
    "import numpy as np\n",
    "import pandas as pd\n",
    "from scipy.stats import chi2_contingency\n",
    "from scipy.stats import ttest_ind"
   ]
  },
  {
   "cell_type": "markdown",
   "id": "1c684819",
   "metadata": {},
   "source": [
    "# 예시"
   ]
  },
  {
   "cell_type": "code",
   "execution_count": 28,
   "id": "83877250",
   "metadata": {},
   "outputs": [
    {
     "name": "stdout",
     "output_type": "stream",
     "text": [
      "T-statistic: -23.788840561507893\n",
      "P-value: 2.3993732505752156e-110\n",
      "귀무가설을 기각합니다. 두 그룹 간에는 통계적으로 유의한 평균 차이가 있습니다.\n"
     ]
    }
   ],
   "source": [
    "# 예시 데이터 생성\n",
    "np.random.seed(42)\n",
    "group1 = np.random.normal(loc=0, scale=1, size=1000)\n",
    "group2 = np.random.normal(loc=1, scale=1, size=1000)\n",
    "\n",
    "# 독립 표본 t-검정 수행\n",
    "t_statistic, p_value = ttest_ind(group1, group2)\n",
    "\n",
    "# 결과 출력\n",
    "print(\"T-statistic:\", t_statistic)\n",
    "print(\"P-value:\", p_value)\n",
    "\n",
    "# 유의수준 0.05에서의 가설 검정\n",
    "alpha = 0.05\n",
    "if p_value < alpha:\n",
    "    print(\"귀무가설을 기각합니다. 두 그룹 간에는 통계적으로 유의한 평균 차이가 있습니다.\")\n",
    "else:\n",
    "    print(\"귀무가설을 기각하지 못합니다. 두 그룹 간에는 통계적으로 유의한 평균 차이가 없습니다.\")"
   ]
  },
  {
   "cell_type": "code",
   "execution_count": 35,
   "id": "4d9a97f0",
   "metadata": {},
   "outputs": [
    {
     "name": "stdout",
     "output_type": "stream",
     "text": [
      "Chi-square Statistic: 8.055555555555555\n",
      "P-value: 0.017813872384429157\n",
      "Degrees of Freedom: 2\n",
      "Expected Frequencies Table:\n",
      "[[22.5 22.5]\n",
      " [22.5 22.5]\n",
      " [20.  20. ]]\n",
      "[[30 15]\n",
      " [20 25]\n",
      " [15 25]]\n",
      "귀무가설을 기각합니다. 기대값과 실제 관찰값 간에 통계적으로 유의한 차이가 있습니다.\n"
     ]
    }
   ],
   "source": [
    "# 예시 데이터 생성\n",
    "observed_data = np.array([[30, 15], [20, 25],[15,25]])\n",
    "\n",
    "# 카이제곱 검정 수행\n",
    "chi2_stat, p_value, dof, expected = chi2_contingency(observed_data)\n",
    "\n",
    "# 결과 출력\n",
    "print(\"Chi-square Statistic:\", chi2_stat)\n",
    "print(\"P-value:\", p_value)\n",
    "print(\"Degrees of Freedom:\", dof)\n",
    "print(\"Expected Frequencies Table:\")\n",
    "print(expected)\n",
    "print(observed_data)\n",
    "\n",
    "# 유의수준 0.05에서의 가설 검정\n",
    "alpha = 0.05\n",
    "if p_value < alpha:\n",
    "    print(\"귀무가설을 기각합니다. 기대값과 실제 관찰값 간에 통계적으로 유의한 차이가 있습니다.\")\n",
    "else:\n",
    "    print(\"귀무가설을 기각하지 못합니다. 기대값과 실제 관찰값 간에 통계적으로 유의한 차이가 없습니다.\")"
   ]
  },
  {
   "cell_type": "code",
   "execution_count": 2,
   "id": "5220c9e2",
   "metadata": {},
   "outputs": [],
   "source": [
    "# 데이터 불러오기\n",
    "df = pd.read_csv('주최측데이터.csv')\n",
    "\n",
    "# 랜덤 시드 고정\n",
    "np.random.seed(42)\n",
    "\n",
    "# 가설1, 가설2에 사용할 데이터\n",
    "df1 = df.dropna(subset = ['age','genre'])\n",
    "\n",
    "# 가설3, 가설4에 사용할 데이터\n",
    "df2 = df.dropna(subset = ['gender','genre'])"
   ]
  },
  {
   "cell_type": "markdown",
   "id": "90e6215e",
   "metadata": {},
   "source": [
    "# 1. 가설1"
   ]
  },
  {
   "cell_type": "code",
   "execution_count": 3,
   "id": "e6f8dab3",
   "metadata": {},
   "outputs": [
    {
     "name": "stdout",
     "output_type": "stream",
     "text": [
      "T-statistic: 30.116741610218345\n",
      "P-value: 4.101010213552318e-199\n"
     ]
    }
   ],
   "source": [
    "t_statistic, p_value = ttest_ind(df1[df1['age']==40]['price'], df1[df1['age']!=40]['price'])\n",
    "print(\"T-statistic:\", t_statistic)\n",
    "print(\"P-value:\", p_value)"
   ]
  },
  {
   "cell_type": "code",
   "execution_count": 4,
   "id": "0d9aa291",
   "metadata": {},
   "outputs": [
    {
     "name": "stdout",
     "output_type": "stream",
     "text": [
      "T-statistic: 14.89556726614086\n",
      "P-value: 3.822118311675502e-50\n"
     ]
    }
   ],
   "source": [
    "t_statistic, p_value = ttest_ind(df1[df1['age']==40]['price'], df1[df1['age']==10]['price'])\n",
    "print(\"T-statistic:\", t_statistic)\n",
    "print(\"P-value:\", p_value)"
   ]
  },
  {
   "cell_type": "code",
   "execution_count": 5,
   "id": "bf199fb9",
   "metadata": {},
   "outputs": [
    {
     "name": "stdout",
     "output_type": "stream",
     "text": [
      "T-statistic: 65.1596681080164\n",
      "P-value: 0.0\n"
     ]
    }
   ],
   "source": [
    "t_statistic, p_value = ttest_ind(df1[df1['age']==40]['price'], df1[df1['age']==20]['price'])\n",
    "print(\"T-statistic:\", t_statistic)\n",
    "print(\"P-value:\", p_value)"
   ]
  },
  {
   "cell_type": "code",
   "execution_count": 6,
   "id": "060f4600",
   "metadata": {},
   "outputs": [
    {
     "name": "stdout",
     "output_type": "stream",
     "text": [
      "T-statistic: -13.529670448229371\n",
      "P-value: 1.0800679041102173e-41\n"
     ]
    }
   ],
   "source": [
    "t_statistic, p_value = ttest_ind(df1[df1['age']==40]['price'], df1[df1['age']==30]['price'])\n",
    "print(\"T-statistic:\", t_statistic)\n",
    "print(\"P-value:\", p_value)"
   ]
  },
  {
   "cell_type": "code",
   "execution_count": 7,
   "id": "c8333d72",
   "metadata": {},
   "outputs": [
    {
     "name": "stdout",
     "output_type": "stream",
     "text": [
      "T-statistic: 16.1477556076661\n",
      "P-value: 1.2492012335168961e-58\n"
     ]
    }
   ],
   "source": [
    "t_statistic, p_value = ttest_ind(df1[df1['age']==40]['price'], df1[df1['age']==50]['price'])\n",
    "print(\"T-statistic:\", t_statistic)\n",
    "print(\"P-value:\", p_value)"
   ]
  },
  {
   "cell_type": "code",
   "execution_count": 8,
   "id": "182c7fbf",
   "metadata": {},
   "outputs": [
    {
     "name": "stdout",
     "output_type": "stream",
     "text": [
      "T-statistic: 30.059552137261885\n",
      "P-value: 3.878135002979072e-198\n"
     ]
    }
   ],
   "source": [
    "t_statistic, p_value = ttest_ind(df1[df1['age']==40]['price'], df1[df1['age']==60]['price'])\n",
    "print(\"T-statistic:\", t_statistic)\n",
    "print(\"P-value:\", p_value)"
   ]
  },
  {
   "cell_type": "code",
   "execution_count": 9,
   "id": "8e04a503",
   "metadata": {},
   "outputs": [
    {
     "name": "stdout",
     "output_type": "stream",
     "text": [
      "T-statistic: 27.372346243625216\n",
      "P-value: 1.3290905875044847e-164\n"
     ]
    }
   ],
   "source": [
    "t_statistic, p_value = ttest_ind(df1[df1['age']==40]['price'], df1[df1['age']==70]['price'])\n",
    "print(\"T-statistic:\", t_statistic)\n",
    "print(\"P-value:\", p_value)"
   ]
  },
  {
   "cell_type": "code",
   "execution_count": 10,
   "id": "c1ba647c",
   "metadata": {},
   "outputs": [
    {
     "name": "stdout",
     "output_type": "stream",
     "text": [
      "T-statistic: -3.6888756565945395\n",
      "P-value: 0.0002253250239036241\n"
     ]
    }
   ],
   "source": [
    "t_statistic, p_value = ttest_ind(df1[df1['age']==40]['price'], df1[df1['age']==80]['price'])\n",
    "print(\"T-statistic:\", t_statistic)\n",
    "print(\"P-value:\", p_value)"
   ]
  },
  {
   "cell_type": "code",
   "execution_count": 24,
   "id": "e06e7f03",
   "metadata": {},
   "outputs": [
    {
     "name": "stdout",
     "output_type": "stream",
     "text": [
      "T-statistic: -10.163902035730354\n",
      "P-value: 2.88625794950372e-24\n"
     ]
    }
   ],
   "source": [
    "t_statistic, p_value = ttest_ind(df1[df1['age']==10]['price'], df1[df1['age']!=10]['price'])\n",
    "print(\"T-statistic:\", t_statistic)\n",
    "print(\"P-value:\", p_value)"
   ]
  },
  {
   "cell_type": "code",
   "execution_count": 11,
   "id": "9a9b3b57",
   "metadata": {},
   "outputs": [
    {
     "name": "stdout",
     "output_type": "stream",
     "text": [
      "T-statistic: -18.09666908705119\n",
      "P-value: 4.2781725210482245e-73\n"
     ]
    }
   ],
   "source": [
    "t_statistic, p_value = ttest_ind(df1[df1['age']==10]['price'], df1[df1['age']==30]['price'])\n",
    "print(\"T-statistic:\", t_statistic)\n",
    "print(\"P-value:\", p_value)"
   ]
  },
  {
   "cell_type": "code",
   "execution_count": 12,
   "id": "3683a42e",
   "metadata": {},
   "outputs": [
    {
     "name": "stdout",
     "output_type": "stream",
     "text": [
      "T-statistic: -14.89556726614086\n",
      "P-value: 3.822118311675502e-50\n"
     ]
    }
   ],
   "source": [
    "t_statistic, p_value = ttest_ind(df1[df1['age']==10]['price'], df1[df1['age']==40]['price'])\n",
    "print(\"T-statistic:\", t_statistic)\n",
    "print(\"P-value:\", p_value)"
   ]
  },
  {
   "cell_type": "code",
   "execution_count": 13,
   "id": "a4627085",
   "metadata": {},
   "outputs": [
    {
     "name": "stdout",
     "output_type": "stream",
     "text": [
      "T-statistic: -10.569364302107646\n",
      "P-value: 4.2214572065575595e-26\n"
     ]
    }
   ],
   "source": [
    "t_statistic, p_value = ttest_ind(df1[df1['age']==10]['price'], df1[df1['age']==50]['price'])\n",
    "print(\"T-statistic:\", t_statistic)\n",
    "print(\"P-value:\", p_value)"
   ]
  },
  {
   "cell_type": "code",
   "execution_count": 14,
   "id": "e360b33b",
   "metadata": {
    "scrolled": true
   },
   "outputs": [
    {
     "name": "stdout",
     "output_type": "stream",
     "text": [
      "T-statistic: -5.451853438704293\n",
      "P-value: 4.996996970340636e-08\n"
     ]
    }
   ],
   "source": [
    "t_statistic, p_value = ttest_ind(df1[df1['age']==10]['price'], df1[df1['age']==60]['price'])\n",
    "print(\"T-statistic:\", t_statistic)\n",
    "print(\"P-value:\", p_value)"
   ]
  },
  {
   "cell_type": "code",
   "execution_count": 15,
   "id": "1dff85c8",
   "metadata": {},
   "outputs": [
    {
     "name": "stdout",
     "output_type": "stream",
     "text": [
      "T-statistic: -1.2329654162120793\n",
      "P-value: 0.21759820551973064\n"
     ]
    }
   ],
   "source": [
    "t_statistic, p_value = ttest_ind(df1[df1['age']==10]['price'], df1[df1['age']==70]['price'])\n",
    "print(\"T-statistic:\", t_statistic)\n",
    "print(\"P-value:\", p_value)"
   ]
  },
  {
   "cell_type": "code",
   "execution_count": 16,
   "id": "c06cfe03",
   "metadata": {},
   "outputs": [
    {
     "name": "stdout",
     "output_type": "stream",
     "text": [
      "T-statistic: -13.801081386291962\n",
      "P-value: 5.150904517534204e-43\n"
     ]
    }
   ],
   "source": [
    "t_statistic, p_value = ttest_ind(df1[df1['age']==10]['price'], df1[df1['age']==80]['price'])\n",
    "print(\"T-statistic:\", t_statistic)\n",
    "print(\"P-value:\", p_value)"
   ]
  },
  {
   "cell_type": "code",
   "execution_count": 25,
   "id": "66e12837",
   "metadata": {},
   "outputs": [
    {
     "name": "stdout",
     "output_type": "stream",
     "text": [
      "T-statistic: -62.319495557620925\n",
      "P-value: 0.0\n"
     ]
    }
   ],
   "source": [
    "t_statistic, p_value = ttest_ind(df1[df1['age']==20]['price'], df1[df1['age']!=20]['price'])\n",
    "print(\"T-statistic:\", t_statistic)\n",
    "print(\"P-value:\", p_value)"
   ]
  },
  {
   "cell_type": "code",
   "execution_count": 18,
   "id": "7f38818a",
   "metadata": {},
   "outputs": [
    {
     "name": "stdout",
     "output_type": "stream",
     "text": [
      "T-statistic: -72.99541479851452\n",
      "P-value: 0.0\n"
     ]
    }
   ],
   "source": [
    "t_statistic, p_value = ttest_ind(df1[df1['age']==20]['price'], df1[df1['age']==30]['price'])\n",
    "print(\"T-statistic:\", t_statistic)\n",
    "print(\"P-value:\", p_value)"
   ]
  },
  {
   "cell_type": "code",
   "execution_count": 19,
   "id": "5fd232dc",
   "metadata": {},
   "outputs": [
    {
     "name": "stdout",
     "output_type": "stream",
     "text": [
      "T-statistic: -65.1596681080164\n",
      "P-value: 0.0\n"
     ]
    }
   ],
   "source": [
    "t_statistic, p_value = ttest_ind(df1[df1['age']==20]['price'], df1[df1['age']==40]['price'])\n",
    "print(\"T-statistic:\", t_statistic)\n",
    "print(\"P-value:\", p_value)"
   ]
  },
  {
   "cell_type": "code",
   "execution_count": 20,
   "id": "0d586a72",
   "metadata": {},
   "outputs": [
    {
     "name": "stdout",
     "output_type": "stream",
     "text": [
      "T-statistic: -50.71319977952805\n",
      "P-value: 0.0\n"
     ]
    }
   ],
   "source": [
    "t_statistic, p_value = ttest_ind(df1[df1['age']==20]['price'], df1[df1['age']==50]['price'])\n",
    "print(\"T-statistic:\", t_statistic)\n",
    "print(\"P-value:\", p_value)"
   ]
  },
  {
   "cell_type": "code",
   "execution_count": 21,
   "id": "60c07b27",
   "metadata": {},
   "outputs": [
    {
     "name": "stdout",
     "output_type": "stream",
     "text": [
      "T-statistic: -31.283203474452314\n",
      "P-value: 3.1703906048907124e-214\n"
     ]
    }
   ],
   "source": [
    "t_statistic, p_value = ttest_ind(df1[df1['age']==20]['price'], df1[df1['age']==60]['price'])\n",
    "print(\"T-statistic:\", t_statistic)\n",
    "print(\"P-value:\", p_value)"
   ]
  },
  {
   "cell_type": "code",
   "execution_count": 22,
   "id": "54b5f368",
   "metadata": {},
   "outputs": [
    {
     "name": "stdout",
     "output_type": "stream",
     "text": [
      "T-statistic: -13.027871784474513\n",
      "P-value: 9.096041396808018e-39\n"
     ]
    }
   ],
   "source": [
    "t_statistic, p_value = ttest_ind(df1[df1['age']==20]['price'], df1[df1['age']==70]['price'])\n",
    "print(\"T-statistic:\", t_statistic)\n",
    "print(\"P-value:\", p_value)"
   ]
  },
  {
   "cell_type": "code",
   "execution_count": 23,
   "id": "d44b34ea",
   "metadata": {},
   "outputs": [
    {
     "name": "stdout",
     "output_type": "stream",
     "text": [
      "T-statistic: -29.468531049773848\n",
      "P-value: 6.065628065683438e-190\n"
     ]
    }
   ],
   "source": [
    "t_statistic, p_value = ttest_ind(df1[df1['age']==20]['price'], df1[df1['age']==80]['price'])\n",
    "print(\"T-statistic:\", t_statistic)\n",
    "print(\"P-value:\", p_value)"
   ]
  },
  {
   "cell_type": "code",
   "execution_count": 26,
   "id": "f5fbda3d",
   "metadata": {},
   "outputs": [
    {
     "name": "stdout",
     "output_type": "stream",
     "text": [
      "T-statistic: -63.399765786153104\n",
      "P-value: 0.0\n"
     ]
    }
   ],
   "source": [
    "t_statistic, p_value = ttest_ind(df1[(df1['age']==10)|(df1['age']==20)]['price'], df1[(df1['age']!=10)&(df1['age']!=20)]['price'])\n",
    "print(\"T-statistic:\", t_statistic)\n",
    "print(\"P-value:\", p_value)"
   ]
  },
  {
   "cell_type": "markdown",
   "id": "28e1f8e1",
   "metadata": {},
   "source": [
    "# 2. 가설2"
   ]
  },
  {
   "cell_type": "code",
   "execution_count": 34,
   "id": "a1bb2211",
   "metadata": {},
   "outputs": [
    {
     "name": "stdout",
     "output_type": "stream",
     "text": [
      "age    10.0   20.0   30.0   40.0   50.0   60.0   70.0  80.0\n",
      "genre                                                      \n",
      "교향곡    1761  30971  42053  56178  61882  45749  12984  3793\n",
      "독주     1364  16920  21381  26431  21753   9845   2350   813\n",
      "클래식    1185  15872  25211  32212  28563  17419   4689  1613\n",
      "Chi-square Statistic: 8755.033118789815\n",
      "P-value: 0.0\n",
      "Degrees of Freedom: 14\n",
      "Expected Frequencies Table: [[ 2278.81416255 33713.23142619 46869.02121567 60708.9839811\n",
      "  59322.13257777 38603.95787715 10586.70440297  3288.15435659]\n",
      " [  900.00180127 13314.80623075 18510.59389182 23976.59091041\n",
      "  23428.86359608 15246.36462095  4181.14525913  1298.63368958]\n",
      " [ 1131.18403617 16734.96234306 23265.3848925  30135.42510849\n",
      "  29447.00382615 19162.6775019   5255.15033789  1632.21195382]]\n"
     ]
    }
   ],
   "source": [
    "crosstab1 = pd.crosstab(df1[(df1['genre']=='클래식')|(df1['genre']=='교향곡')|(df1['genre']=='독주')]['genre'],df1['age'])\n",
    "print(crosstab1)\n",
    "chi2_stat, p_value, dof, expected = chi2_contingency(crosstab1)\n",
    "print(\"Chi-square Statistic:\", chi2_stat)\n",
    "print(\"P-value:\", p_value)\n",
    "print(\"Degrees of Freedom:\", dof)\n",
    "print(\"Expected Frequencies Table:\", expected)"
   ]
  },
  {
   "cell_type": "code",
   "execution_count": 45,
   "id": "87061afe",
   "metadata": {},
   "outputs": [
    {
     "name": "stderr",
     "output_type": "stream",
     "text": [
      "C:\\Users\\saint\\AppData\\Local\\Temp\\ipykernel_18720\\612141344.py:1: SettingWithCopyWarning: \n",
      "A value is trying to be set on a copy of a slice from a DataFrame.\n",
      "Try using .loc[row_indexer,col_indexer] = value instead\n",
      "\n",
      "See the caveats in the documentation: https://pandas.pydata.org/pandas-docs/stable/user_guide/indexing.html#returning-a-view-versus-a-copy\n",
      "  df1['age_group'] = df1['age'].apply(lambda x: '10-20' if x in [10, 20] else x)\n"
     ]
    },
    {
     "name": "stdout",
     "output_type": "stream",
     "text": [
      "age_group   30.0   40.0   50.0   60.0   70.0  80.0  10-20\n",
      "genre                                                    \n",
      "교향곡        42053  56178  61882  45749  12984  3793  32732\n",
      "독주         21381  26431  21753   9845   2350   813  18284\n",
      "클래식        25211  32212  28563  17419   4689  1613  17057\n",
      "Chi-square Statistic: 8648.673514938122\n",
      "P-value: 0.0\n",
      "Degrees of Freedom: 12\n",
      "Expected Frequencies Table: [[46869.02121567 60708.9839811  59322.13257777 38603.95787715\n",
      "  10586.70440297  3288.15435659 35992.04558875]\n",
      " [18510.59389182 23976.59091041 23428.86359608 15246.36462095\n",
      "   4181.14525913  1298.63368958 14214.80803202]\n",
      " [23265.3848925  30135.42510849 29447.00382615 19162.6775019\n",
      "   5255.15033789  1632.21195382 17866.14637924]]\n"
     ]
    }
   ],
   "source": [
    "df1['age_group'] = df1['age'].apply(lambda x: '10-20' if x in [10, 20] else x)\n",
    "crosstab1 = pd.crosstab(df1[(df1['genre']=='클래식')|(df1['genre']=='교향곡')|(df1['genre']=='독주')]['genre'],df1['age_group'])\n",
    "print(crosstab1)\n",
    "chi2_stat, p_value, dof, expected = chi2_contingency(crosstab1)\n",
    "print(\"Chi-square Statistic:\", chi2_stat)\n",
    "print(\"P-value:\", p_value)\n",
    "print(\"Degrees of Freedom:\", dof)\n",
    "print(\"Expected Frequencies Table:\", expected)"
   ]
  },
  {
   "cell_type": "code",
   "execution_count": 38,
   "id": "ed625454",
   "metadata": {},
   "outputs": [
    {
     "name": "stderr",
     "output_type": "stream",
     "text": [
      "C:\\Users\\saint\\AppData\\Local\\Temp\\ipykernel_18720\\3874245310.py:1: SettingWithCopyWarning: \n",
      "A value is trying to be set on a copy of a slice from a DataFrame.\n",
      "Try using .loc[row_indexer,col_indexer] = value instead\n",
      "\n",
      "See the caveats in the documentation: https://pandas.pydata.org/pandas-docs/stable/user_guide/indexing.html#returning-a-view-versus-a-copy\n",
      "  df1['age_group'] = df1['age'].apply(lambda x: '10-20' if x in [10, 20] else '30-80')\n"
     ]
    },
    {
     "name": "stdout",
     "output_type": "stream",
     "text": [
      "age_group  10-20   30-80\n",
      "genre                   \n",
      "교향곡        32732  222639\n",
      "독주         18284   82573\n",
      "클래식        17057  109707\n",
      "Chi-square Statistic: 1742.3638453744225\n",
      "P-value: 0.0\n",
      "Degrees of Freedom: 2\n",
      "Expected Frequencies Table: [[ 35992.04558875 219378.95441125]\n",
      " [ 14214.80803202  86642.19196798]\n",
      " [ 17866.14637924 108897.85362076]]\n"
     ]
    }
   ],
   "source": [
    "df1['age_group'] = df1['age'].apply(lambda x: '10-20' if x in [10, 20] else '30-80')\n",
    "crosstab1 = pd.crosstab(df1[(df1['genre']=='클래식')|(df1['genre']=='교향곡')|(df1['genre']=='독주')]['genre'],df1['age_group'])\n",
    "print(crosstab1)\n",
    "chi2_stat, p_value, dof, expected = chi2_contingency(crosstab1)\n",
    "print(\"Chi-square Statistic:\", chi2_stat)\n",
    "print(\"P-value:\", p_value)\n",
    "print(\"Degrees of Freedom:\", dof)\n",
    "print(\"Expected Frequencies Table:\", expected)"
   ]
  },
  {
   "cell_type": "code",
   "execution_count": 39,
   "id": "85d9fcb6",
   "metadata": {},
   "outputs": [
    {
     "name": "stderr",
     "output_type": "stream",
     "text": [
      "C:\\Users\\saint\\AppData\\Local\\Temp\\ipykernel_18720\\1817929700.py:1: SettingWithCopyWarning: \n",
      "A value is trying to be set on a copy of a slice from a DataFrame.\n",
      "Try using .loc[row_indexer,col_indexer] = value instead\n",
      "\n",
      "See the caveats in the documentation: https://pandas.pydata.org/pandas-docs/stable/user_guide/indexing.html#returning-a-view-versus-a-copy\n",
      "  df1['age_group'] = df1['age'].apply(lambda x: '10-20' if x in [10, 20] else '30' if x == 30 else None)\n"
     ]
    },
    {
     "name": "stdout",
     "output_type": "stream",
     "text": [
      "age_group  10-20     30\n",
      "genre                  \n",
      "교향곡        32732  42053\n",
      "독주         18284  21381\n",
      "클래식        17057  25211\n",
      "Chi-square Statistic: 280.96187715819605\n",
      "P-value: 9.770202441168643e-62\n",
      "Degrees of Freedom: 2\n",
      "Expected Frequencies Table: [[32484.07524981 42300.92475019]\n",
      " [17229.1347835  22435.8652165 ]\n",
      " [18359.78996669 23908.21003331]]\n"
     ]
    }
   ],
   "source": [
    "df1['age_group'] = df1['age'].apply(lambda x: '10-20' if x in [10, 20] else '30' if x == 30 else None)\n",
    "crosstab1 = pd.crosstab(df1[(df1['genre']=='클래식')|(df1['genre']=='교향곡')|(df1['genre']=='독주')]['genre'],df1['age_group'])\n",
    "print(crosstab1)\n",
    "chi2_stat, p_value, dof, expected = chi2_contingency(crosstab1)\n",
    "print(\"Chi-square Statistic:\", chi2_stat)\n",
    "print(\"P-value:\", p_value)\n",
    "print(\"Degrees of Freedom:\", dof)\n",
    "print(\"Expected Frequencies Table:\", expected)"
   ]
  },
  {
   "cell_type": "code",
   "execution_count": 40,
   "id": "f7d65834",
   "metadata": {},
   "outputs": [
    {
     "name": "stderr",
     "output_type": "stream",
     "text": [
      "C:\\Users\\saint\\AppData\\Local\\Temp\\ipykernel_18720\\605843173.py:1: SettingWithCopyWarning: \n",
      "A value is trying to be set on a copy of a slice from a DataFrame.\n",
      "Try using .loc[row_indexer,col_indexer] = value instead\n",
      "\n",
      "See the caveats in the documentation: https://pandas.pydata.org/pandas-docs/stable/user_guide/indexing.html#returning-a-view-versus-a-copy\n",
      "  df1['age_group'] = df1['age'].apply(lambda x: '10-20' if x in [10, 20] else '40' if x == 40 else None)\n"
     ]
    },
    {
     "name": "stdout",
     "output_type": "stream",
     "text": [
      "age_group  10-20     40\n",
      "genre                  \n",
      "교향곡        32732  56178\n",
      "독주         18284  26431\n",
      "클래식        17057  32212\n",
      "Chi-square Statistic: 406.52327405154494\n",
      "P-value: 5.303867390063458e-89\n",
      "Degrees of Freedom: 2\n",
      "Expected Frequencies Table: [[33092.23063632 55817.76936368]\n",
      " [16642.88710947 28072.11289053]\n",
      " [18337.8822542  30931.1177458 ]]\n"
     ]
    }
   ],
   "source": [
    "df1['age_group'] = df1['age'].apply(lambda x: '10-20' if x in [10, 20] else '40' if x == 40 else None)\n",
    "crosstab1 = pd.crosstab(df1[(df1['genre']=='클래식')|(df1['genre']=='교향곡')|(df1['genre']=='독주')]['genre'],df1['age_group'])\n",
    "print(crosstab1)\n",
    "chi2_stat, p_value, dof, expected = chi2_contingency(crosstab1)\n",
    "print(\"Chi-square Statistic:\", chi2_stat)\n",
    "print(\"P-value:\", p_value)\n",
    "print(\"Degrees of Freedom:\", dof)\n",
    "print(\"Expected Frequencies Table:\", expected)"
   ]
  },
  {
   "cell_type": "code",
   "execution_count": 41,
   "id": "00d4950a",
   "metadata": {},
   "outputs": [
    {
     "name": "stderr",
     "output_type": "stream",
     "text": [
      "C:\\Users\\saint\\AppData\\Local\\Temp\\ipykernel_18720\\2966254520.py:1: SettingWithCopyWarning: \n",
      "A value is trying to be set on a copy of a slice from a DataFrame.\n",
      "Try using .loc[row_indexer,col_indexer] = value instead\n",
      "\n",
      "See the caveats in the documentation: https://pandas.pydata.org/pandas-docs/stable/user_guide/indexing.html#returning-a-view-versus-a-copy\n",
      "  df1['age_group'] = df1['age'].apply(lambda x: '10-20' if x in [10, 20] else '50' if x == 50 else None)\n"
     ]
    },
    {
     "name": "stdout",
     "output_type": "stream",
     "text": [
      "age_group  10-20     50\n",
      "genre                  \n",
      "교향곡        32732  61882\n",
      "독주         18284  21753\n",
      "클래식        17057  28563\n",
      "Chi-square Statistic: 1471.129300217859\n",
      "P-value: 0.0\n",
      "Degrees of Freedom: 2\n",
      "Expected Frequencies Table: [[35727.64794116 58886.35205884]\n",
      " [15118.56427823 24918.43572177]\n",
      " [17226.78778062 28393.21221938]]\n"
     ]
    }
   ],
   "source": [
    "df1['age_group'] = df1['age'].apply(lambda x: '10-20' if x in [10, 20] else '50' if x == 50 else None)\n",
    "crosstab1 = pd.crosstab(df1[(df1['genre']=='클래식')|(df1['genre']=='교향곡')|(df1['genre']=='독주')]['genre'],df1['age_group'])\n",
    "print(crosstab1)\n",
    "chi2_stat, p_value, dof, expected = chi2_contingency(crosstab1)\n",
    "print(\"Chi-square Statistic:\", chi2_stat)\n",
    "print(\"P-value:\", p_value)\n",
    "print(\"Degrees of Freedom:\", dof)\n",
    "print(\"Expected Frequencies Table:\", expected)"
   ]
  },
  {
   "cell_type": "code",
   "execution_count": 42,
   "id": "38bfcecb",
   "metadata": {},
   "outputs": [
    {
     "name": "stderr",
     "output_type": "stream",
     "text": [
      "C:\\Users\\saint\\AppData\\Local\\Temp\\ipykernel_18720\\739501422.py:1: SettingWithCopyWarning: \n",
      "A value is trying to be set on a copy of a slice from a DataFrame.\n",
      "Try using .loc[row_indexer,col_indexer] = value instead\n",
      "\n",
      "See the caveats in the documentation: https://pandas.pydata.org/pandas-docs/stable/user_guide/indexing.html#returning-a-view-versus-a-copy\n",
      "  df1['age_group'] = df1['age'].apply(lambda x: '10-20' if x in [10, 20] else '60' if x == 60 else None)\n"
     ]
    },
    {
     "name": "stdout",
     "output_type": "stream",
     "text": [
      "age_group  10-20     60\n",
      "genre                  \n",
      "교향곡        32732  45749\n",
      "독주         18284   9845\n",
      "클래식        17057  17419\n",
      "Chi-square Statistic: 4527.1946933230865\n",
      "P-value: 0.0\n",
      "Degrees of Freedom: 2\n",
      "Expected Frequencies Table: [[37866.52901776 40614.47098224]\n",
      " [13572.04412202 14556.95587798]\n",
      " [16634.42686021 17841.57313979]]\n"
     ]
    }
   ],
   "source": [
    "df1['age_group'] = df1['age'].apply(lambda x: '10-20' if x in [10, 20] else '60' if x == 60 else None)\n",
    "crosstab1 = pd.crosstab(df1[(df1['genre']=='클래식')|(df1['genre']=='교향곡')|(df1['genre']=='독주')]['genre'],df1['age_group'])\n",
    "print(crosstab1)\n",
    "chi2_stat, p_value, dof, expected = chi2_contingency(crosstab1)\n",
    "print(\"Chi-square Statistic:\", chi2_stat)\n",
    "print(\"P-value:\", p_value)\n",
    "print(\"Degrees of Freedom:\", dof)\n",
    "print(\"Expected Frequencies Table:\", expected)"
   ]
  },
  {
   "cell_type": "code",
   "execution_count": 43,
   "id": "4a644035",
   "metadata": {},
   "outputs": [
    {
     "name": "stderr",
     "output_type": "stream",
     "text": [
      "C:\\Users\\saint\\AppData\\Local\\Temp\\ipykernel_18720\\3094771824.py:1: SettingWithCopyWarning: \n",
      "A value is trying to be set on a copy of a slice from a DataFrame.\n",
      "Try using .loc[row_indexer,col_indexer] = value instead\n",
      "\n",
      "See the caveats in the documentation: https://pandas.pydata.org/pandas-docs/stable/user_guide/indexing.html#returning-a-view-versus-a-copy\n",
      "  df1['age_group'] = df1['age'].apply(lambda x: '10-20' if x in [10, 20] else '70' if x == 70 else None)\n"
     ]
    },
    {
     "name": "stdout",
     "output_type": "stream",
     "text": [
      "age_group  10-20     70\n",
      "genre                  \n",
      "교향곡        32732  12984\n",
      "독주         18284   2350\n",
      "클래식        17057   4689\n",
      "Chi-square Statistic: 2365.251243637992\n",
      "P-value: 0.0\n",
      "Degrees of Freedom: 2\n",
      "Expected Frequencies Table: [[35325.38671449 10390.61328551]\n",
      " [15944.17773792  4689.82226208]\n",
      " [16803.43554758  4942.56445242]]\n"
     ]
    }
   ],
   "source": [
    "df1['age_group'] = df1['age'].apply(lambda x: '10-20' if x in [10, 20] else '70' if x == 70 else None)\n",
    "crosstab1 = pd.crosstab(df1[(df1['genre']=='클래식')|(df1['genre']=='교향곡')|(df1['genre']=='독주')]['genre'],df1['age_group'])\n",
    "print(crosstab1)\n",
    "chi2_stat, p_value, dof, expected = chi2_contingency(crosstab1)\n",
    "print(\"Chi-square Statistic:\", chi2_stat)\n",
    "print(\"P-value:\", p_value)\n",
    "print(\"Degrees of Freedom:\", dof)\n",
    "print(\"Expected Frequencies Table:\", expected)"
   ]
  },
  {
   "cell_type": "code",
   "execution_count": 44,
   "id": "d910f58e",
   "metadata": {},
   "outputs": [
    {
     "name": "stderr",
     "output_type": "stream",
     "text": [
      "C:\\Users\\saint\\AppData\\Local\\Temp\\ipykernel_18720\\3750098594.py:1: SettingWithCopyWarning: \n",
      "A value is trying to be set on a copy of a slice from a DataFrame.\n",
      "Try using .loc[row_indexer,col_indexer] = value instead\n",
      "\n",
      "See the caveats in the documentation: https://pandas.pydata.org/pandas-docs/stable/user_guide/indexing.html#returning-a-view-versus-a-copy\n",
      "  df1['age_group'] = df1['age'].apply(lambda x: '10-20' if x in [10, 20] else '80' if x == 80 else None)\n"
     ]
    },
    {
     "name": "stdout",
     "output_type": "stream",
     "text": [
      "age_group  10-20    80\n",
      "genre                 \n",
      "교향곡        32732  3793\n",
      "독주         18284   813\n",
      "클래식        17057  1613\n",
      "Chi-square Statistic: 616.1873955311337\n",
      "P-value: 1.572559734186833e-134\n",
      "Degrees of Freedom: 2\n",
      "Expected Frequencies Table: [[33467.48404943  3057.51595057]\n",
      " [17498.38584235  1598.61415765]\n",
      " [17107.13010822  1562.86989178]]\n"
     ]
    }
   ],
   "source": [
    "df1['age_group'] = df1['age'].apply(lambda x: '10-20' if x in [10, 20] else '80' if x == 80 else None)\n",
    "crosstab1 = pd.crosstab(df1[(df1['genre']=='클래식')|(df1['genre']=='교향곡')|(df1['genre']=='독주')]['genre'],df1['age_group'])\n",
    "print(crosstab1)\n",
    "chi2_stat, p_value, dof, expected = chi2_contingency(crosstab1)\n",
    "print(\"Chi-square Statistic:\", chi2_stat)\n",
    "print(\"P-value:\", p_value)\n",
    "print(\"Degrees of Freedom:\", dof)\n",
    "print(\"Expected Frequencies Table:\", expected)"
   ]
  },
  {
   "cell_type": "markdown",
   "id": "4998f8b2",
   "metadata": {},
   "source": [
    "# 3. 가설3"
   ]
  },
  {
   "cell_type": "code",
   "execution_count": 60,
   "id": "6b09952a",
   "metadata": {},
   "outputs": [],
   "source": [
    "t_statistic, p_value = ttest_ind(df1[df1['gender']=='F']['price'], df1[df1['gender']=='M']['price'])"
   ]
  },
  {
   "cell_type": "code",
   "execution_count": 61,
   "id": "96095b95",
   "metadata": {},
   "outputs": [
    {
     "name": "stdout",
     "output_type": "stream",
     "text": [
      "T-statistic: 43.58173230137185\n",
      "P-value: 0.0\n"
     ]
    }
   ],
   "source": [
    "print(\"T-statistic:\", t_statistic)\n",
    "print(\"P-value:\", p_value)"
   ]
  },
  {
   "cell_type": "markdown",
   "id": "07586941",
   "metadata": {},
   "source": [
    "# 4. 가설4"
   ]
  },
  {
   "cell_type": "code",
   "execution_count": 47,
   "id": "f3924317",
   "metadata": {},
   "outputs": [
    {
     "name": "stdout",
     "output_type": "stream",
     "text": [
      "gender       F       M\n",
      "genre                 \n",
      "교향곡     153708  101663\n",
      "독주       69201   31656\n",
      "클래식      87432   39332\n",
      "Chi-square Statistic: 3899.2719058109706\n",
      "P-value: 0.0\n",
      "Degrees of Freedom: 2\n",
      "Expected Frequencies Table: [[164085.72297471  91285.27702529]\n",
      " [ 64804.51485118  36052.48514882]\n",
      " [ 81450.76217411  45313.23782589]]\n"
     ]
    }
   ],
   "source": [
    "crosstab2 = pd.crosstab(df1[(df1['genre']=='클래식')|(df1['genre']=='교향곡')|(df1['genre']=='독주')]['genre'],df1['gender'])\n",
    "print(crosstab2)\n",
    "chi2_stat, p_value, dof, expected = chi2_contingency(crosstab2)\n",
    "print(\"Chi-square Statistic:\", chi2_stat)\n",
    "print(\"P-value:\", p_value)\n",
    "print(\"Degrees of Freedom:\", dof)\n",
    "print(\"Expected Frequencies Table:\", expected)"
   ]
  }
 ],
 "metadata": {
  "kernelspec": {
   "display_name": "Python 3 (ipykernel)",
   "language": "python",
   "name": "python3"
  },
  "language_info": {
   "codemirror_mode": {
    "name": "ipython",
    "version": 3
   },
   "file_extension": ".py",
   "mimetype": "text/x-python",
   "name": "python",
   "nbconvert_exporter": "python",
   "pygments_lexer": "ipython3",
   "version": "3.9.13"
  }
 },
 "nbformat": 4,
 "nbformat_minor": 5
}
