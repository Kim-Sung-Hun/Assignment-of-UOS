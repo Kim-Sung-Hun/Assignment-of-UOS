{
 "cells": [
  {
   "cell_type": "code",
   "execution_count": 2,
   "id": "a2de49b0",
   "metadata": {},
   "outputs": [],
   "source": [
    "import pandas as pd\n",
    "import matplotlib.pyplot as plt"
   ]
  },
  {
   "cell_type": "code",
   "execution_count": 3,
   "id": "b0af13e6",
   "metadata": {},
   "outputs": [],
   "source": [
    "df1 = pd.read_csv('주최측데이터.csv')\n",
    "df2 = pd.read_csv('입장객현황데이터.csv')\n",
    "df3 = pd.read_csv('크롤링데이터.csv')\n",
    "df4 = pd.read_csv('feature_fin.csv')"
   ]
  },
  {
   "cell_type": "code",
   "execution_count": 8,
   "id": "859b7e66",
   "metadata": {},
   "outputs": [
    {
     "data": {
      "text/html": [
       "<div>\n",
       "<style scoped>\n",
       "    .dataframe tbody tr th:only-of-type {\n",
       "        vertical-align: middle;\n",
       "    }\n",
       "\n",
       "    .dataframe tbody tr th {\n",
       "        vertical-align: top;\n",
       "    }\n",
       "\n",
       "    .dataframe thead th {\n",
       "        text-align: right;\n",
       "    }\n",
       "</style>\n",
       "<table border=\"1\" class=\"dataframe\">\n",
       "  <thead>\n",
       "    <tr style=\"text-align: right;\">\n",
       "      <th></th>\n",
       "      <th>age</th>\n",
       "      <th>gender</th>\n",
       "      <th>membership_type_1</th>\n",
       "      <th>membership_type_2</th>\n",
       "      <th>membership_type_3</th>\n",
       "      <th>membership_type_4</th>\n",
       "      <th>membership_type_5</th>\n",
       "      <th>membership_type_6</th>\n",
       "      <th>tran_date</th>\n",
       "      <th>tran_time</th>\n",
       "      <th>...</th>\n",
       "      <th>ticket_cancel</th>\n",
       "      <th>discount_type</th>\n",
       "      <th>performance_code</th>\n",
       "      <th>pre_open_date</th>\n",
       "      <th>open_date</th>\n",
       "      <th>genre</th>\n",
       "      <th>place</th>\n",
       "      <th>running_time</th>\n",
       "      <th>intermission</th>\n",
       "      <th>member_yn</th>\n",
       "    </tr>\n",
       "  </thead>\n",
       "  <tbody>\n",
       "    <tr>\n",
       "      <th>0</th>\n",
       "      <td>50.0</td>\n",
       "      <td>F</td>\n",
       "      <td>골드</td>\n",
       "      <td>무료</td>\n",
       "      <td>그린</td>\n",
       "      <td>NaN</td>\n",
       "      <td>NaN</td>\n",
       "      <td>NaN</td>\n",
       "      <td>20220114</td>\n",
       "      <td>1512</td>\n",
       "      <td>...</td>\n",
       "      <td>2</td>\n",
       "      <td>일반</td>\n",
       "      <td>302</td>\n",
       "      <td>20220114.0</td>\n",
       "      <td>20220115.0</td>\n",
       "      <td>교향곡</td>\n",
       "      <td>콘서트홀</td>\n",
       "      <td>120</td>\n",
       "      <td>15</td>\n",
       "      <td>Y</td>\n",
       "    </tr>\n",
       "    <tr>\n",
       "      <th>1</th>\n",
       "      <td>NaN</td>\n",
       "      <td>NaN</td>\n",
       "      <td>NaN</td>\n",
       "      <td>NaN</td>\n",
       "      <td>NaN</td>\n",
       "      <td>NaN</td>\n",
       "      <td>NaN</td>\n",
       "      <td>NaN</td>\n",
       "      <td>20211003</td>\n",
       "      <td>1550</td>\n",
       "      <td>...</td>\n",
       "      <td>0</td>\n",
       "      <td>초대권</td>\n",
       "      <td>1120</td>\n",
       "      <td>NaN</td>\n",
       "      <td>20210823.0</td>\n",
       "      <td>독주</td>\n",
       "      <td>리사이틀홀</td>\n",
       "      <td>90</td>\n",
       "      <td>15</td>\n",
       "      <td>N</td>\n",
       "    </tr>\n",
       "    <tr>\n",
       "      <th>2</th>\n",
       "      <td>NaN</td>\n",
       "      <td>NaN</td>\n",
       "      <td>NaN</td>\n",
       "      <td>NaN</td>\n",
       "      <td>NaN</td>\n",
       "      <td>NaN</td>\n",
       "      <td>NaN</td>\n",
       "      <td>NaN</td>\n",
       "      <td>20220917</td>\n",
       "      <td>1520</td>\n",
       "      <td>...</td>\n",
       "      <td>0</td>\n",
       "      <td>초대권</td>\n",
       "      <td>2283</td>\n",
       "      <td>20220911.0</td>\n",
       "      <td>20220911.0</td>\n",
       "      <td>독주</td>\n",
       "      <td>IBK챔버홀</td>\n",
       "      <td>80</td>\n",
       "      <td>15</td>\n",
       "      <td>N</td>\n",
       "    </tr>\n",
       "    <tr>\n",
       "      <th>3</th>\n",
       "      <td>NaN</td>\n",
       "      <td>NaN</td>\n",
       "      <td>NaN</td>\n",
       "      <td>NaN</td>\n",
       "      <td>NaN</td>\n",
       "      <td>NaN</td>\n",
       "      <td>NaN</td>\n",
       "      <td>NaN</td>\n",
       "      <td>20190630</td>\n",
       "      <td>1132</td>\n",
       "      <td>...</td>\n",
       "      <td>0</td>\n",
       "      <td>초대권</td>\n",
       "      <td>2798</td>\n",
       "      <td>NaN</td>\n",
       "      <td>20190701.0</td>\n",
       "      <td>독주</td>\n",
       "      <td>리사이틀홀</td>\n",
       "      <td>90</td>\n",
       "      <td>15</td>\n",
       "      <td>N</td>\n",
       "    </tr>\n",
       "    <tr>\n",
       "      <th>4</th>\n",
       "      <td>50.0</td>\n",
       "      <td>M</td>\n",
       "      <td>무료</td>\n",
       "      <td>NaN</td>\n",
       "      <td>NaN</td>\n",
       "      <td>NaN</td>\n",
       "      <td>NaN</td>\n",
       "      <td>NaN</td>\n",
       "      <td>20220206</td>\n",
       "      <td>1615</td>\n",
       "      <td>...</td>\n",
       "      <td>0</td>\n",
       "      <td>일반</td>\n",
       "      <td>897</td>\n",
       "      <td>20220109.0</td>\n",
       "      <td>20220110.0</td>\n",
       "      <td>독주</td>\n",
       "      <td>콘서트홀</td>\n",
       "      <td>90</td>\n",
       "      <td>0</td>\n",
       "      <td>Y</td>\n",
       "    </tr>\n",
       "    <tr>\n",
       "      <th>...</th>\n",
       "      <td>...</td>\n",
       "      <td>...</td>\n",
       "      <td>...</td>\n",
       "      <td>...</td>\n",
       "      <td>...</td>\n",
       "      <td>...</td>\n",
       "      <td>...</td>\n",
       "      <td>...</td>\n",
       "      <td>...</td>\n",
       "      <td>...</td>\n",
       "      <td>...</td>\n",
       "      <td>...</td>\n",
       "      <td>...</td>\n",
       "      <td>...</td>\n",
       "      <td>...</td>\n",
       "      <td>...</td>\n",
       "      <td>...</td>\n",
       "      <td>...</td>\n",
       "      <td>...</td>\n",
       "      <td>...</td>\n",
       "      <td>...</td>\n",
       "    </tr>\n",
       "    <tr>\n",
       "      <th>1920863</th>\n",
       "      <td>NaN</td>\n",
       "      <td>NaN</td>\n",
       "      <td>NaN</td>\n",
       "      <td>NaN</td>\n",
       "      <td>NaN</td>\n",
       "      <td>NaN</td>\n",
       "      <td>NaN</td>\n",
       "      <td>NaN</td>\n",
       "      <td>20190614</td>\n",
       "      <td>920</td>\n",
       "      <td>...</td>\n",
       "      <td>0</td>\n",
       "      <td>초대권</td>\n",
       "      <td>1265</td>\n",
       "      <td>20190528.0</td>\n",
       "      <td>20190531.0</td>\n",
       "      <td>실내악</td>\n",
       "      <td>IBK챔버홀</td>\n",
       "      <td>100</td>\n",
       "      <td>15</td>\n",
       "      <td>N</td>\n",
       "    </tr>\n",
       "    <tr>\n",
       "      <th>1920864</th>\n",
       "      <td>20.0</td>\n",
       "      <td>F</td>\n",
       "      <td>무료</td>\n",
       "      <td>싹틔우미</td>\n",
       "      <td>NaN</td>\n",
       "      <td>NaN</td>\n",
       "      <td>NaN</td>\n",
       "      <td>NaN</td>\n",
       "      <td>20221224</td>\n",
       "      <td>1223</td>\n",
       "      <td>...</td>\n",
       "      <td>0</td>\n",
       "      <td>청소년(만7세~만24세/본인만)30%</td>\n",
       "      <td>313</td>\n",
       "      <td>NaN</td>\n",
       "      <td>20221223.0</td>\n",
       "      <td>교향곡</td>\n",
       "      <td>콘서트홀</td>\n",
       "      <td>120</td>\n",
       "      <td>0</td>\n",
       "      <td>Y</td>\n",
       "    </tr>\n",
       "    <tr>\n",
       "      <th>1920865</th>\n",
       "      <td>50.0</td>\n",
       "      <td>F</td>\n",
       "      <td>블루</td>\n",
       "      <td>무료</td>\n",
       "      <td>그린</td>\n",
       "      <td>NaN</td>\n",
       "      <td>NaN</td>\n",
       "      <td>NaN</td>\n",
       "      <td>20210614</td>\n",
       "      <td>129</td>\n",
       "      <td>...</td>\n",
       "      <td>0</td>\n",
       "      <td>그린회원 할인20%</td>\n",
       "      <td>736</td>\n",
       "      <td>NaN</td>\n",
       "      <td>20210503.0</td>\n",
       "      <td>독주</td>\n",
       "      <td>리사이틀홀</td>\n",
       "      <td>100</td>\n",
       "      <td>15</td>\n",
       "      <td>Y</td>\n",
       "    </tr>\n",
       "    <tr>\n",
       "      <th>1920866</th>\n",
       "      <td>NaN</td>\n",
       "      <td>NaN</td>\n",
       "      <td>NaN</td>\n",
       "      <td>NaN</td>\n",
       "      <td>NaN</td>\n",
       "      <td>NaN</td>\n",
       "      <td>NaN</td>\n",
       "      <td>NaN</td>\n",
       "      <td>20211123</td>\n",
       "      <td>1617</td>\n",
       "      <td>...</td>\n",
       "      <td>0</td>\n",
       "      <td>초대권</td>\n",
       "      <td>1920</td>\n",
       "      <td>20211029.0</td>\n",
       "      <td>20211029.0</td>\n",
       "      <td>독주</td>\n",
       "      <td>IBK챔버홀</td>\n",
       "      <td>90</td>\n",
       "      <td>15</td>\n",
       "      <td>N</td>\n",
       "    </tr>\n",
       "    <tr>\n",
       "      <th>1920867</th>\n",
       "      <td>NaN</td>\n",
       "      <td>NaN</td>\n",
       "      <td>NaN</td>\n",
       "      <td>NaN</td>\n",
       "      <td>NaN</td>\n",
       "      <td>NaN</td>\n",
       "      <td>NaN</td>\n",
       "      <td>NaN</td>\n",
       "      <td>20210527</td>\n",
       "      <td>1715</td>\n",
       "      <td>...</td>\n",
       "      <td>0</td>\n",
       "      <td>초대권</td>\n",
       "      <td>1995</td>\n",
       "      <td>NaN</td>\n",
       "      <td>20210517.0</td>\n",
       "      <td>실내악</td>\n",
       "      <td>IBK챔버홀</td>\n",
       "      <td>100</td>\n",
       "      <td>15</td>\n",
       "      <td>N</td>\n",
       "    </tr>\n",
       "  </tbody>\n",
       "</table>\n",
       "<p>1920868 rows × 24 columns</p>\n",
       "</div>"
      ],
      "text/plain": [
       "          age gender membership_type_1 membership_type_2 membership_type_3  \\\n",
       "0        50.0      F                골드                무료                그린   \n",
       "1         NaN    NaN               NaN               NaN               NaN   \n",
       "2         NaN    NaN               NaN               NaN               NaN   \n",
       "3         NaN    NaN               NaN               NaN               NaN   \n",
       "4        50.0      M                무료               NaN               NaN   \n",
       "...       ...    ...               ...               ...               ...   \n",
       "1920863   NaN    NaN               NaN               NaN               NaN   \n",
       "1920864  20.0      F                무료              싹틔우미               NaN   \n",
       "1920865  50.0      F                블루                무료                그린   \n",
       "1920866   NaN    NaN               NaN               NaN               NaN   \n",
       "1920867   NaN    NaN               NaN               NaN               NaN   \n",
       "\n",
       "        membership_type_4 membership_type_5  membership_type_6  tran_date  \\\n",
       "0                     NaN               NaN                NaN   20220114   \n",
       "1                     NaN               NaN                NaN   20211003   \n",
       "2                     NaN               NaN                NaN   20220917   \n",
       "3                     NaN               NaN                NaN   20190630   \n",
       "4                     NaN               NaN                NaN   20220206   \n",
       "...                   ...               ...                ...        ...   \n",
       "1920863               NaN               NaN                NaN   20190614   \n",
       "1920864               NaN               NaN                NaN   20221224   \n",
       "1920865               NaN               NaN                NaN   20210614   \n",
       "1920866               NaN               NaN                NaN   20211123   \n",
       "1920867               NaN               NaN                NaN   20210527   \n",
       "\n",
       "         tran_time  ...  ticket_cancel         discount_type performance_code  \\\n",
       "0             1512  ...              2                    일반              302   \n",
       "1             1550  ...              0                   초대권             1120   \n",
       "2             1520  ...              0                   초대권             2283   \n",
       "3             1132  ...              0                   초대권             2798   \n",
       "4             1615  ...              0                    일반              897   \n",
       "...            ...  ...            ...                   ...              ...   \n",
       "1920863        920  ...              0                   초대권             1265   \n",
       "1920864       1223  ...              0  청소년(만7세~만24세/본인만)30%              313   \n",
       "1920865        129  ...              0            그린회원 할인20%              736   \n",
       "1920866       1617  ...              0                   초대권             1920   \n",
       "1920867       1715  ...              0                   초대권             1995   \n",
       "\n",
       "         pre_open_date   open_date genre   place  running_time  intermission  \\\n",
       "0           20220114.0  20220115.0   교향곡    콘서트홀           120            15   \n",
       "1                  NaN  20210823.0    독주   리사이틀홀            90            15   \n",
       "2           20220911.0  20220911.0    독주  IBK챔버홀            80            15   \n",
       "3                  NaN  20190701.0    독주   리사이틀홀            90            15   \n",
       "4           20220109.0  20220110.0    독주    콘서트홀            90             0   \n",
       "...                ...         ...   ...     ...           ...           ...   \n",
       "1920863     20190528.0  20190531.0   실내악  IBK챔버홀           100            15   \n",
       "1920864            NaN  20221223.0   교향곡    콘서트홀           120             0   \n",
       "1920865            NaN  20210503.0    독주   리사이틀홀           100            15   \n",
       "1920866     20211029.0  20211029.0    독주  IBK챔버홀            90            15   \n",
       "1920867            NaN  20210517.0   실내악  IBK챔버홀           100            15   \n",
       "\n",
       "        member_yn  \n",
       "0               Y  \n",
       "1               N  \n",
       "2               N  \n",
       "3               N  \n",
       "4               Y  \n",
       "...           ...  \n",
       "1920863         N  \n",
       "1920864         Y  \n",
       "1920865         Y  \n",
       "1920866         N  \n",
       "1920867         N  \n",
       "\n",
       "[1920868 rows x 24 columns]"
      ]
     },
     "execution_count": 8,
     "metadata": {},
     "output_type": "execute_result"
    }
   ],
   "source": [
    "df1\n",
    "\n",
    "# 나이, 가격, 성별, 장르, 멤버십, 캔슬\n",
    "\n",
    "# 나이별 가격, 장르\n",
    "# 성별별 가격, 장르\n"
   ]
  },
  {
   "cell_type": "code",
   "execution_count": 7,
   "id": "cdb7bddf",
   "metadata": {},
   "outputs": [
    {
     "data": {
      "text/plain": [
       "age                  1300183\n",
       "gender               1299714\n",
       "membership_type_1    1299714\n",
       "membership_type_2    1433215\n",
       "membership_type_3    1749009\n",
       "membership_type_4    1890675\n",
       "membership_type_5    1919586\n",
       "membership_type_6    1920868\n",
       "tran_date                  0\n",
       "tran_time                  0\n",
       "play_date                  0\n",
       "play_st_time               0\n",
       "seat                       0\n",
       "price                      0\n",
       "ticket_cancel              0\n",
       "discount_type              0\n",
       "performance_code           0\n",
       "pre_open_date         864385\n",
       "open_date                340\n",
       "genre                  25842\n",
       "place                      0\n",
       "running_time               0\n",
       "intermission               0\n",
       "member_yn                  0\n",
       "dtype: int64"
      ]
     },
     "execution_count": 7,
     "metadata": {},
     "output_type": "execute_result"
    }
   ],
   "source": [
    "df1.isnull().sum()"
   ]
  },
  {
   "cell_type": "code",
   "execution_count": 4,
   "id": "9cc44e2f",
   "metadata": {},
   "outputs": [
    {
     "data": {
      "text/plain": [
       "Index(['age', 'gender', 'membership_type_1', 'membership_type_2',\n",
       "       'membership_type_3', 'membership_type_4', 'membership_type_5',\n",
       "       'membership_type_6', 'tran_date', 'tran_time', 'play_date',\n",
       "       'play_st_time', 'seat', 'price', 'ticket_cancel', 'discount_type',\n",
       "       'performance_code', 'pre_open_date', 'open_date', 'genre', 'place',\n",
       "       'running_time', 'intermission', 'member_yn'],\n",
       "      dtype='object')"
      ]
     },
     "execution_count": 4,
     "metadata": {},
     "output_type": "execute_result"
    }
   ],
   "source": [
    "df1.columns"
   ]
  },
  {
   "cell_type": "code",
   "execution_count": 8,
   "id": "f2d2af58",
   "metadata": {},
   "outputs": [
    {
     "data": {
      "text/html": [
       "<div>\n",
       "<style scoped>\n",
       "    .dataframe tbody tr th:only-of-type {\n",
       "        vertical-align: middle;\n",
       "    }\n",
       "\n",
       "    .dataframe tbody tr th {\n",
       "        vertical-align: top;\n",
       "    }\n",
       "\n",
       "    .dataframe thead th {\n",
       "        text-align: right;\n",
       "    }\n",
       "</style>\n",
       "<table border=\"1\" class=\"dataframe\">\n",
       "  <thead>\n",
       "    <tr style=\"text-align: right;\">\n",
       "      <th></th>\n",
       "      <th>age</th>\n",
       "      <th>price</th>\n",
       "    </tr>\n",
       "  </thead>\n",
       "  <tbody>\n",
       "    <tr>\n",
       "      <th>count</th>\n",
       "      <td>620685.000000</td>\n",
       "      <td>1.920868e+06</td>\n",
       "    </tr>\n",
       "    <tr>\n",
       "      <th>mean</th>\n",
       "      <td>42.395160</td>\n",
       "      <td>1.953481e+04</td>\n",
       "    </tr>\n",
       "    <tr>\n",
       "      <th>std</th>\n",
       "      <td>14.599198</td>\n",
       "      <td>4.232811e+04</td>\n",
       "    </tr>\n",
       "    <tr>\n",
       "      <th>min</th>\n",
       "      <td>10.000000</td>\n",
       "      <td>0.000000e+00</td>\n",
       "    </tr>\n",
       "    <tr>\n",
       "      <th>25%</th>\n",
       "      <td>30.000000</td>\n",
       "      <td>0.000000e+00</td>\n",
       "    </tr>\n",
       "    <tr>\n",
       "      <th>50%</th>\n",
       "      <td>40.000000</td>\n",
       "      <td>0.000000e+00</td>\n",
       "    </tr>\n",
       "    <tr>\n",
       "      <th>75%</th>\n",
       "      <td>50.000000</td>\n",
       "      <td>2.400000e+04</td>\n",
       "    </tr>\n",
       "    <tr>\n",
       "      <th>max</th>\n",
       "      <td>80.000000</td>\n",
       "      <td>4.800000e+05</td>\n",
       "    </tr>\n",
       "  </tbody>\n",
       "</table>\n",
       "</div>"
      ],
      "text/plain": [
       "                 age         price\n",
       "count  620685.000000  1.920868e+06\n",
       "mean       42.395160  1.953481e+04\n",
       "std        14.599198  4.232811e+04\n",
       "min        10.000000  0.000000e+00\n",
       "25%        30.000000  0.000000e+00\n",
       "50%        40.000000  0.000000e+00\n",
       "75%        50.000000  2.400000e+04\n",
       "max        80.000000  4.800000e+05"
      ]
     },
     "execution_count": 8,
     "metadata": {},
     "output_type": "execute_result"
    }
   ],
   "source": [
    "df1[['age','price']].describe()"
   ]
  },
  {
   "cell_type": "code",
   "execution_count": 61,
   "id": "d1388237",
   "metadata": {},
   "outputs": [
    {
     "data": {
      "text/plain": [
       "{'whiskers': [<matplotlib.lines.Line2D at 0x20f83e31a60>,\n",
       "  <matplotlib.lines.Line2D at 0x20f83e31c10>],\n",
       " 'caps': [<matplotlib.lines.Line2D at 0x20f83e3a910>,\n",
       "  <matplotlib.lines.Line2D at 0x20f83e3a8e0>],\n",
       " 'boxes': [<matplotlib.lines.Line2D at 0x20f83e313a0>],\n",
       " 'medians': [<matplotlib.lines.Line2D at 0x20f83e3a2b0>],\n",
       " 'fliers': [<matplotlib.lines.Line2D at 0x20f83e3af10>],\n",
       " 'means': []}"
      ]
     },
     "execution_count": 61,
     "metadata": {},
     "output_type": "execute_result"
    },
    {
     "data": {
      "image/png": "[encoded data removed]",
      "text/plain": [
       "<Figure size 640x480 with 1 Axes>"
      ]
     },
     "metadata": {},
     "output_type": "display_data"
    }
   ],
   "source": [
    "df1_age = df1['age'].dropna()\n",
    "plt.boxplot(df1_age)"
   ]
  },
  {
   "cell_type": "code",
   "execution_count": 63,
   "id": "3177bc03",
   "metadata": {},
   "outputs": [
    {
     "data": {
      "text/plain": [
       "{'whiskers': [<matplotlib.lines.Line2D at 0x2102a328700>,\n",
       "  <matplotlib.lines.Line2D at 0x2102a3289d0>],\n",
       " 'caps': [<matplotlib.lines.Line2D at 0x2102a328ca0>,\n",
       "  <matplotlib.lines.Line2D at 0x2102a328f70>],\n",
       " 'boxes': [<matplotlib.lines.Line2D at 0x2102a328430>],\n",
       " 'medians': [<matplotlib.lines.Line2D at 0x2102a4d4280>],\n",
       " 'fliers': [<matplotlib.lines.Line2D at 0x2102a4d4550>],\n",
       " 'means': []}"
      ]
     },
     "execution_count": 63,
     "metadata": {},
     "output_type": "execute_result"
    },
    {
     "data": {
      "image/png": "[encoded data removed]",
      "text/plain": [
       "<Figure size 640x480 with 1 Axes>"
      ]
     },
     "metadata": {},
     "output_type": "display_data"
    }
   ],
   "source": [
    "df1_price = df1['price'].dropna()\n",
    "plt.boxplot(df1_price)"
   ]
  },
  {
   "cell_type": "code",
   "execution_count": null,
   "id": "f7b9defe",
   "metadata": {},
   "outputs": [],
   "source": [
    "'gender','genre','member_yn','ticket_cancel'"
   ]
  },
  {
   "cell_type": "code",
   "execution_count": 5,
   "id": "7dbdb70f",
   "metadata": {},
   "outputs": [
    {
     "name": "stdout",
     "output_type": "stream",
     "text": [
      "<class 'pandas.core.frame.DataFrame'>\n",
      "RangeIndex: 1920868 entries, 0 to 1920867\n",
      "Data columns (total 24 columns):\n",
      " #   Column             Dtype  \n",
      "---  ------             -----  \n",
      " 0   age                float64\n",
      " 1   gender             object \n",
      " 2   membership_type_1  object \n",
      " 3   membership_type_2  object \n",
      " 4   membership_type_3  object \n",
      " 5   membership_type_4  object \n",
      " 6   membership_type_5  object \n",
      " 7   membership_type_6  float64\n",
      " 8   tran_date          int64  \n",
      " 9   tran_time          int64  \n",
      " 10  play_date          int64  \n",
      " 11  play_st_time       int64  \n",
      " 12  seat               object \n",
      " 13  price              int64  \n",
      " 14  ticket_cancel      int64  \n",
      " 15  discount_type      object \n",
      " 16  performance_code   int64  \n",
      " 17  pre_open_date      float64\n",
      " 18  open_date          float64\n",
      " 19  genre              object \n",
      " 20  place              object \n",
      " 21  running_time       int64  \n",
      " 22  intermission       int64  \n",
      " 23  member_yn          object \n",
      "dtypes: float64(4), int64(9), object(11)\n",
      "memory usage: 351.7+ MB\n"
     ]
    }
   ],
   "source": [
    "df1.info()"
   ]
  },
  {
   "cell_type": "code",
   "execution_count": 7,
   "id": "e2b2c466",
   "metadata": {},
   "outputs": [
    {
     "data": {
      "text/plain": [
       "age                  1300183\n",
       "gender               1299714\n",
       "membership_type_1    1299714\n",
       "membership_type_2    1433215\n",
       "membership_type_3    1749009\n",
       "membership_type_4    1890675\n",
       "membership_type_5    1919586\n",
       "membership_type_6    1920868\n",
       "tran_date                  0\n",
       "tran_time                  0\n",
       "play_date                  0\n",
       "play_st_time               0\n",
       "seat                       0\n",
       "price                      0\n",
       "ticket_cancel              0\n",
       "discount_type              0\n",
       "performance_code           0\n",
       "pre_open_date         864385\n",
       "open_date                340\n",
       "genre                  25842\n",
       "place                      0\n",
       "running_time               0\n",
       "intermission               0\n",
       "member_yn                  0\n",
       "dtype: int64"
      ]
     },
     "execution_count": 7,
     "metadata": {},
     "output_type": "execute_result"
    }
   ],
   "source": [
    "df1.isnull().sum()"
   ]
  },
  {
   "cell_type": "code",
   "execution_count": 16,
   "id": "bf0f9f66",
   "metadata": {},
   "outputs": [
    {
     "data": {
      "image/png": "[encoded data removed]",
      "text/plain": [
       "<Figure size 640x480 with 1 Axes>"
      ]
     },
     "metadata": {},
     "output_type": "display_data"
    }
   ],
   "source": [
    "bins = [0, 10, 20, 30, 40, 50, 60, 70 ,80]\n",
    "plt.hist(df1['age'], bins=bins, edgecolor='k')\n",
    "plt.title('Age')\n",
    "plt.show()"
   ]
  },
  {
   "cell_type": "code",
   "execution_count": 22,
   "id": "a40c7072",
   "metadata": {},
   "outputs": [
    {
     "data": {
      "image/png": "[encoded data removed]",
      "text/plain": [
       "<Figure size 640x480 with 1 Axes>"
      ]
     },
     "metadata": {},
     "output_type": "display_data"
    }
   ],
   "source": [
    "bins = 10\n",
    "plt.hist(df1['price'], bins=bins, edgecolor='k')\n",
    "plt.title('price')\n",
    "plt.show()"
   ]
  },
  {
   "cell_type": "code",
   "execution_count": 23,
   "id": "30e7fc79",
   "metadata": {},
   "outputs": [
    {
     "data": {
      "image/png": "[encoded data removed]",
      "text/plain": [
       "<Figure size 640x480 with 1 Axes>"
      ]
     },
     "metadata": {},
     "output_type": "display_data"
    }
   ],
   "source": [
    "bins = [i*10000 for i in range(20)]\n",
    "plt.hist(df1['price'], bins=bins, edgecolor='k')\n",
    "plt.title('price')\n",
    "plt.show()"
   ]
  },
  {
   "cell_type": "code",
   "execution_count": 26,
   "id": "d5eb0cbc",
   "metadata": {},
   "outputs": [
    {
     "data": {
      "text/plain": [
       "1247372"
      ]
     },
     "execution_count": 26,
     "metadata": {},
     "output_type": "execute_result"
    }
   ],
   "source": [
    "(df1['price'] == 0).sum()"
   ]
  },
  {
   "cell_type": "code",
   "execution_count": 31,
   "id": "3d5f5e27",
   "metadata": {},
   "outputs": [
    {
     "data": {
      "image/png": "[encoded data removed]",
      "text/plain": [
       "<Figure size 640x480 with 1 Axes>"
      ]
     },
     "metadata": {},
     "output_type": "display_data"
    }
   ],
   "source": [
    "plt.bar(df1['gender'].value_counts().index, df1['gender'].value_counts())\n",
    "plt.title('Gender')\n",
    "plt.show()"
   ]
  },
  {
   "cell_type": "code",
   "execution_count": 36,
   "id": "ecbafc03",
   "metadata": {},
   "outputs": [
    {
     "data": {
      "image/png": "[encoded data removed]",
      "text/plain": [
       "<Figure size 1000x600 with 1 Axes>"
      ]
     },
     "metadata": {},
     "output_type": "display_data"
    }
   ],
   "source": [
    "plt.figure(figsize=(10, 6))\n",
    "plt.rcParams['font.family'] = 'Malgun Gothic' \n",
    "plt.bar(df1['genre'].value_counts().index, df1['genre'].value_counts())\n",
    "plt.title('Genre')\n",
    "plt.show()"
   ]
  },
  {
   "cell_type": "code",
   "execution_count": 38,
   "id": "20e817cf",
   "metadata": {},
   "outputs": [
    {
     "data": {
      "image/png": "[encoded data removed]",
      "text/plain": [
       "<Figure size 640x480 with 1 Axes>"
      ]
     },
     "metadata": {},
     "output_type": "display_data"
    }
   ],
   "source": [
    "plt.bar(df1['member_yn'].value_counts().index, df1['member_yn'].value_counts())\n",
    "plt.title('Member')\n",
    "plt.show()"
   ]
  },
  {
   "cell_type": "code",
   "execution_count": 52,
   "id": "d5e35ee0",
   "metadata": {},
   "outputs": [
    {
     "data": {
      "image/png": "[encoded data removed]",
      "text/plain": [
       "<Figure size 640x480 with 1 Axes>"
      ]
     },
     "metadata": {},
     "output_type": "display_data"
    }
   ],
   "source": [
    "df1['ticket_cancel'] = df1['ticket_cancel'].astype(str)\n",
    "plt.bar(df1['ticket_cancel'].value_counts().index, df1['ticket_cancel'].value_counts())\n",
    "plt.title('Ticket')\n",
    "plt.show()"
   ]
  },
  {
   "cell_type": "code",
   "execution_count": 73,
   "id": "82435a43",
   "metadata": {},
   "outputs": [],
   "source": [
    "df1_1 = df1[(df1['age']>= 10) & (df1['age']<20)]\n",
    "df1_2 = df1[(df1['age']>= 20) & (df1['age']<30)]\n",
    "df1_3 = df1[(df1['age']>= 30) & (df1['age']<40)]\n",
    "df1_4 = df1[(df1['age']>= 40) & (df1['age']<50)]\n",
    "df1_5 = df1[(df1['age']>= 50) & (df1['age']<60)]\n",
    "df1_6 = df1[(df1['age']>= 60) & (df1['age']<70)]\n",
    "df1_7 = df1[(df1['age']>= 70) & (df1['age']<80)]"
   ]
  },
  {
   "cell_type": "code",
   "execution_count": 71,
   "id": "9060dda2",
   "metadata": {},
   "outputs": [],
   "source": [
    "df1_1 = df1[(df1['age']>= 10) & (df1['age']<20)]"
   ]
  },
  {
   "cell_type": "code",
   "execution_count": 10,
   "id": "2ec40e56",
   "metadata": {},
   "outputs": [
    {
     "data": {
      "text/plain": [
       "age\n",
       "10.0    35000.0\n",
       "20.0    30000.0\n",
       "30.0    50000.0\n",
       "40.0    47000.0\n",
       "50.0    42000.0\n",
       "60.0    35000.0\n",
       "70.0    30000.0\n",
       "80.0    50000.0\n",
       "Name: price, dtype: float64"
      ]
     },
     "execution_count": 10,
     "metadata": {},
     "output_type": "execute_result"
    }
   ],
   "source": [
    "df1.groupby('age')['price'].median()"
   ]
  },
  {
   "cell_type": "code",
   "execution_count": 11,
   "id": "75307f96",
   "metadata": {},
   "outputs": [
    {
     "data": {
      "text/plain": [
       "age\n",
       "10.0    50193.129910\n",
       "20.0    46558.988081\n",
       "30.0    65008.450196\n",
       "40.0    61752.945057\n",
       "50.0    58256.998545\n",
       "60.0    53946.726098\n",
       "70.0    50469.814241\n",
       "80.0    64082.120297\n",
       "Name: price, dtype: float64"
      ]
     },
     "execution_count": 11,
     "metadata": {},
     "output_type": "execute_result"
    }
   ],
   "source": [
    "df1.groupby('age')['price'].mean()"
   ]
  },
  {
   "cell_type": "code",
   "execution_count": 42,
   "id": "06c6f564",
   "metadata": {},
   "outputs": [
    {
     "data": {
      "text/plain": [
       "genre\n",
       "교향곡    1761\n",
       "독주     1364\n",
       "클래식    1185\n",
       "Name: genre, dtype: int64"
      ]
     },
     "execution_count": 42,
     "metadata": {},
     "output_type": "execute_result"
    }
   ],
   "source": [
    "df1.groupby('age')['genre'].value_counts().loc[10.0].nlargest(3)"
   ]
  },
  {
   "cell_type": "code",
   "execution_count": 53,
   "id": "cebcf3b1",
   "metadata": {},
   "outputs": [
    {
     "data": {
      "text/plain": [
       "genre\n",
       "교향곡    30971\n",
       "독주     16920\n",
       "클래식    15872\n",
       "Name: genre, dtype: int64"
      ]
     },
     "execution_count": 53,
     "metadata": {},
     "output_type": "execute_result"
    }
   ],
   "source": [
    "df1.groupby('age')['genre'].value_counts().loc[20.0].nlargest(3)"
   ]
  },
  {
   "cell_type": "code",
   "execution_count": 54,
   "id": "3ae2ae27",
   "metadata": {},
   "outputs": [
    {
     "data": {
      "text/plain": [
       "genre\n",
       "교향곡    42053\n",
       "클래식    25211\n",
       "독주     21381\n",
       "Name: genre, dtype: int64"
      ]
     },
     "execution_count": 54,
     "metadata": {},
     "output_type": "execute_result"
    }
   ],
   "source": [
    "df1.groupby('age')['genre'].value_counts().loc[30.0].nlargest(3)"
   ]
  },
  {
   "cell_type": "code",
   "execution_count": 55,
   "id": "bbe88e0d",
   "metadata": {},
   "outputs": [
    {
     "data": {
      "text/plain": [
       "genre\n",
       "교향곡    56178\n",
       "클래식    32212\n",
       "독주     26431\n",
       "Name: genre, dtype: int64"
      ]
     },
     "execution_count": 55,
     "metadata": {},
     "output_type": "execute_result"
    }
   ],
   "source": [
    "df1.groupby('age')['genre'].value_counts().loc[40.0].nlargest(3)"
   ]
  },
  {
   "cell_type": "code",
   "execution_count": 56,
   "id": "9820b064",
   "metadata": {},
   "outputs": [
    {
     "data": {
      "text/plain": [
       "genre\n",
       "교향곡    61882\n",
       "클래식    28563\n",
       "독주     21753\n",
       "Name: genre, dtype: int64"
      ]
     },
     "execution_count": 56,
     "metadata": {},
     "output_type": "execute_result"
    }
   ],
   "source": [
    "df1.groupby('age')['genre'].value_counts().loc[50.0].nlargest(3)"
   ]
  },
  {
   "cell_type": "code",
   "execution_count": 57,
   "id": "21da7254",
   "metadata": {},
   "outputs": [
    {
     "data": {
      "text/plain": [
       "genre\n",
       "교향곡    45749\n",
       "클래식    17419\n",
       "독주      9845\n",
       "Name: genre, dtype: int64"
      ]
     },
     "execution_count": 57,
     "metadata": {},
     "output_type": "execute_result"
    }
   ],
   "source": [
    "df1.groupby('age')['genre'].value_counts().loc[60.0].nlargest(3)"
   ]
  },
  {
   "cell_type": "code",
   "execution_count": 58,
   "id": "c6a07da9",
   "metadata": {},
   "outputs": [
    {
     "data": {
      "text/plain": [
       "genre\n",
       "교향곡    12984\n",
       "클래식     4689\n",
       "실내악     2355\n",
       "Name: genre, dtype: int64"
      ]
     },
     "execution_count": 58,
     "metadata": {},
     "output_type": "execute_result"
    }
   ],
   "source": [
    "df1.groupby('age')['genre'].value_counts().loc[70.0].nlargest(3)"
   ]
  },
  {
   "cell_type": "code",
   "execution_count": 59,
   "id": "fe0198cd",
   "metadata": {},
   "outputs": [
    {
     "data": {
      "text/plain": [
       "genre\n",
       "교향곡    3793\n",
       "클래식    1613\n",
       "독주      813\n",
       "Name: genre, dtype: int64"
      ]
     },
     "execution_count": 59,
     "metadata": {},
     "output_type": "execute_result"
    }
   ],
   "source": [
    "df1.groupby('age')['genre'].value_counts().loc[80.0].nlargest(3)"
   ]
  },
  {
   "cell_type": "code",
   "execution_count": 61,
   "id": "7556e656",
   "metadata": {},
   "outputs": [
    {
     "data": {
      "text/plain": [
       "gender\n",
       "F    45000.0\n",
       "M    36000.0\n",
       "Name: price, dtype: float64"
      ]
     },
     "execution_count": 61,
     "metadata": {},
     "output_type": "execute_result"
    }
   ],
   "source": [
    "df1.groupby('gender')['price'].median()"
   ]
  },
  {
   "cell_type": "code",
   "execution_count": 62,
   "id": "b6a1a12a",
   "metadata": {},
   "outputs": [
    {
     "data": {
      "text/plain": [
       "gender\n",
       "F    60018.590321\n",
       "M    53555.667820\n",
       "Name: price, dtype: float64"
      ]
     },
     "execution_count": 62,
     "metadata": {},
     "output_type": "execute_result"
    }
   ],
   "source": [
    "df1.groupby('gender')['price'].mean()"
   ]
  },
  {
   "cell_type": "code",
   "execution_count": 69,
   "id": "73385cd6",
   "metadata": {},
   "outputs": [
    {
     "data": {
      "text/plain": [
       "genre\n",
       "교향곡    153762\n",
       "클래식     87494\n",
       "독주      69227\n",
       "Name: genre, dtype: int64"
      ]
     },
     "execution_count": 69,
     "metadata": {},
     "output_type": "execute_result"
    }
   ],
   "source": [
    "df1.groupby('gender')['genre'].value_counts().loc['F'].nlargest(3)"
   ]
  },
  {
   "cell_type": "code",
   "execution_count": 67,
   "id": "5e70fa77",
   "metadata": {},
   "outputs": [
    {
     "data": {
      "text/plain": [
       "genre\n",
       "교향곡    101753\n",
       "클래식     39356\n",
       "독주      31676\n",
       "Name: genre, dtype: int64"
      ]
     },
     "execution_count": 67,
     "metadata": {},
     "output_type": "execute_result"
    }
   ],
   "source": [
    "df1.groupby('gender')['genre'].value_counts().loc['M'].nlargest(3)"
   ]
  },
  {
   "cell_type": "code",
   "execution_count": 73,
   "id": "798cd058",
   "metadata": {},
   "outputs": [
    {
     "data": {
      "text/plain": [
       "genre\n",
       "교향곡    0.495235\n",
       "클래식    0.281800\n",
       "독주     0.222966\n",
       "Name: genre, dtype: float64"
      ]
     },
     "execution_count": 73,
     "metadata": {},
     "output_type": "execute_result"
    }
   ],
   "source": [
    "df1.groupby('gender')['genre'].value_counts().loc['F'].nlargest(3)/\\\n",
    "sum(df1.groupby('gender')['genre'].value_counts().loc['F'].nlargest(3))"
   ]
  },
  {
   "cell_type": "code",
   "execution_count": 74,
   "id": "a8d940c8",
   "metadata": {},
   "outputs": [
    {
     "data": {
      "text/plain": [
       "genre\n",
       "교향곡    0.588899\n",
       "클래식    0.227774\n",
       "독주     0.183326\n",
       "Name: genre, dtype: float64"
      ]
     },
     "execution_count": 74,
     "metadata": {},
     "output_type": "execute_result"
    }
   ],
   "source": [
    "df1.groupby('gender')['genre'].value_counts().loc['M'].nlargest(3)/\\\n",
    "sum(df1.groupby('gender')['genre'].value_counts().loc['M'].nlargest(3))"
   ]
  },
  {
   "cell_type": "code",
   "execution_count": null,
   "id": "7403218b",
   "metadata": {},
   "outputs": [],
   "source": []
  },
  {
   "cell_type": "code",
   "execution_count": null,
   "id": "90ad0859",
   "metadata": {},
   "outputs": [],
   "source": []
  }
 ],
 "metadata": {
  "kernelspec": {
   "display_name": "Python 3 (ipykernel)",
   "language": "python",
   "name": "python3"
  },
  "language_info": {
   "codemirror_mode": {
    "name": "ipython",
    "version": 3
   },
   "file_extension": ".py",
   "mimetype": "text/x-python",
   "name": "python",
   "nbconvert_exporter": "python",
   "pygments_lexer": "ipython3",
   "version": "3.9.13"
  }
 },
 "nbformat": 4,
 "nbformat_minor": 5
}
